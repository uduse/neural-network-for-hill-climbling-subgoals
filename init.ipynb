{
 "cells": [
  {
   "cell_type": "code",
   "execution_count": 1,
   "metadata": {
    "ExecuteTime": {
     "end_time": "2020-04-06T06:09:08.623041Z",
     "start_time": "2020-04-06T06:09:08.581938Z"
    }
   },
   "outputs": [
    {
     "ename": "ModuleNotFoundError",
     "evalue": "No module named 'nnhcs'",
     "output_type": "error",
     "traceback": [
      "\u001b[0;31m---------------------------------------------------------------------------\u001b[0m",
      "\u001b[0;31mModuleNotFoundError\u001b[0m                       Traceback (most recent call last)",
      "\u001b[0;32m<ipython-input-1-a761693672ea>\u001b[0m in \u001b[0;36m<module>\u001b[0;34m\u001b[0m\n\u001b[0;32m----> 1\u001b[0;31m \u001b[0;32mfrom\u001b[0m \u001b[0mnnhcs\u001b[0m \u001b[0;32mimport\u001b[0m \u001b[0;34m*\u001b[0m\u001b[0;34m\u001b[0m\u001b[0;34m\u001b[0m\u001b[0m\n\u001b[0m",
      "\u001b[0;31mModuleNotFoundError\u001b[0m: No module named 'nnhcs'"
     ]
    }
   ],
   "source": [
    "from nnhcs import *"
   ]
  },
  {
   "cell_type": "code",
   "execution_count": null,
   "metadata": {
    "ExecuteTime": {
     "end_time": "2020-04-06T06:08:57.905386Z",
     "start_time": "2020-04-06T06:08:57.840Z"
    }
   },
   "outputs": [],
   "source": [
    "# import tqdm\n",
    "from collections import namedtuple\n",
    "from dataclasses import dataclass, field\n",
    "from enum import Enum\n",
    "from IPython import display\n",
    "from PIL import Image, ImageDraw, ImageFont\n",
    "from tqdm.notebook import tqdm as tqdm_nb\n",
    "import tqdm\n",
    "from typing import Any\n",
    "import dataclasses\n",
    "from dataclasses import field\n",
    "import imageio\n",
    "import itertools\n",
    "from loguru import logger\n",
    "import numpy as np\n",
    "import operator\n",
    "import os\n",
    "import pathlib\n",
    "import pickle\n",
    "import queue\n",
    "import random\n",
    "import shelve\n",
    "import shutil\n",
    "import subprocess\n",
    "import torch\n",
    "import torch.nn as nn\n",
    "import torch.nn.functional as F\n",
    "import torch.optim as optim\n",
    "from torch.autograd import Variable\n",
    "import typing\n",
    "import uuid\n",
    "from collections import OrderedDict\n",
    "import collections\n",
    "import numpy as np\n",
    "import gc"
   ]
  },
  {
   "cell_type": "code",
   "execution_count": null,
   "metadata": {
    "ExecuteTime": {
     "end_time": "2020-04-06T06:08:57.906037Z",
     "start_time": "2020-04-06T06:08:57.841Z"
    }
   },
   "outputs": [],
   "source": [
    "device = torch.device('cuda' if torch.cuda.is_available() else 'cpu')"
   ]
  },
  {
   "cell_type": "code",
   "execution_count": null,
   "metadata": {
    "ExecuteTime": {
     "end_time": "2020-04-06T06:08:57.906532Z",
     "start_time": "2020-04-06T06:08:57.843Z"
    }
   },
   "outputs": [],
   "source": [
    "def put_shelve(name, data):\n",
    "    with shelve.open('my.db') as db:\n",
    "        db[name] = data\n",
    "\n",
    "def get_shelve(name):\n",
    "    with shelve.open('my.db') as db:\n",
    "        return db[name]"
   ]
  },
  {
   "cell_type": "code",
   "execution_count": null,
   "metadata": {
    "ExecuteTime": {
     "end_time": "2020-04-06T06:08:57.907105Z",
     "start_time": "2020-04-06T06:08:57.844Z"
    }
   },
   "outputs": [],
   "source": [
    "def put_pickle(name, data):\n",
    "    with open(name + '.pkl', 'wb') as f:\n",
    "        pickle.dump(data, f)\n",
    "        \n",
    "def get_pickle(name):\n",
    "    with open(name + '.pkl', 'rb') as f:\n",
    "        return pickle.load(f)"
   ]
  },
  {
   "cell_type": "code",
   "execution_count": null,
   "metadata": {
    "ExecuteTime": {
     "end_time": "2020-04-06T06:08:57.907610Z",
     "start_time": "2020-04-06T06:08:57.845Z"
    }
   },
   "outputs": [],
   "source": [
    "class Algorithm(object):\n",
    "    def get_next_pos(self, curr, goal, env):\n",
    "        raise NotImplementedError\n",
    "        \n",
    "class LRTA(Algorithm):\n",
    "    def __init__(self, weight=1):\n",
    "        self.h = None\n",
    "        self.h_updates = None\n",
    "        self.weight = weight\n",
    "        \n",
    "    def init_h(self, env, goal):\n",
    "        self.h = np.zeros_like(env.bitmap)\n",
    "        self.h_updates = np.zeros_like(env.bitmap)\n",
    "        for pos in env:\n",
    "            if env.get(pos) == World.ROAD:\n",
    "                self.h[pos.x, pos.y] = Pos.heuristic(pos, goal)\n",
    "        \n",
    "    def get_next_pos(self, curr, goal, env):\n",
    "        adjs = env.get_adjs(curr)\n",
    "        if not adjs:\n",
    "            raise ValueError\n",
    "        \n",
    "        adj_vals = []\n",
    "        for adj in adjs:\n",
    "            g = env.get_cost(curr, adj)\n",
    "            h = self.h[adj.x, adj.y]\n",
    "            f = (g + h) * self.weight\n",
    "            adj_vals.append((f, adj))\n",
    "            \n",
    "        adj_vals.sort(key=operator.itemgetter(0))\n",
    "        _, best_group = next(itertools.groupby(adj_vals, key=operator.itemgetter(0)))\n",
    "        best_f, best_adj = random.choice(list(best_group))\n",
    "            \n",
    "        if best_f > self.h[curr.x, curr.y]:\n",
    "            diff = best_f - self.h[curr.x, curr.y]\n",
    "            self.h_updates[curr.x, curr.y] += diff\n",
    "            self.h[curr.x, curr.y] = best_f\n",
    "#             print(f\"{curr} -> {f}\")\n",
    "        return best_adj"
   ]
  },
  {
   "cell_type": "code",
   "execution_count": null,
   "metadata": {
    "ExecuteTime": {
     "end_time": "2020-04-06T06:08:57.908216Z",
     "start_time": "2020-04-06T06:08:57.847Z"
    }
   },
   "outputs": [],
   "source": [
    "class Path(object):\n",
    "    def __init__(self, world, start, goal, poses, hcses=None):\n",
    "        self.world = world\n",
    "        self.start = start\n",
    "        self.goal = goal\n",
    "        self.poses = poses\n",
    "        self.hcses = hcses\n",
    "        \n",
    "    def vis(self):\n",
    "        return Vis([\n",
    "            BitmapLayer(self.world.bitmap),\n",
    "            SceneLayer(self.start, self.goal),\n",
    "            PathLayer(self.poses),\n",
    "            SubgoalLayer(self.hcses),\n",
    "        ])"
   ]
  },
  {
   "cell_type": "code",
   "execution_count": null,
   "metadata": {
    "ExecuteTime": {
     "end_time": "2020-04-06T06:08:57.908940Z",
     "start_time": "2020-04-06T06:08:57.848Z"
    }
   },
   "outputs": [],
   "source": [
    "def run(world, scene, algo):\n",
    "    algo.init_h(world, scene.goal)\n",
    "    curr_pos = scene.start\n",
    "    total_cost = 0\n",
    "    path = [curr_pos]\n",
    "    time = 0\n",
    "    while curr_pos != scene.goal:\n",
    "#         print(curr_pos)\n",
    "        next_pos = algo.get_next_pos(curr_pos, scene.goal, world, time)\n",
    "        assert world.is_adj(curr_pos, next_pos)\n",
    "        total_cost += world.get_cost(curr_pos, next_pos)\n",
    "        path.append(next_pos)\n",
    "        curr_pos = next_pos\n",
    "        time += 1\n",
    "    return Replay(world, scene, path, algo.h_updates, total_cost)"
   ]
  },
  {
   "cell_type": "code",
   "execution_count": null,
   "metadata": {
    "ExecuteTime": {
     "end_time": "2020-04-06T06:08:57.909536Z",
     "start_time": "2020-04-06T06:08:57.851Z"
    }
   },
   "outputs": [],
   "source": [
    "class VisLayer(object):\n",
    "    @classmethod\n",
    "    def create_empty_image(cls, shape, scale):\n",
    "        return Image.new('RGBA', (scale * shape[0], scale * shape[1]))\n",
    "\n",
    "    # @property\n",
    "    # def shape(self):\n",
    "    #     raise NotImplementedError\n",
    "\n",
    "    def _get_point(self, x, y, scale):\n",
    "        return (x * scale, y * scale)\n",
    "\n",
    "    def _get_mid_point(self, x, y, scale):\n",
    "        return (x * scale + scale / 2, y * scale + scale / 2)\n",
    "\n",
    "    def _get_rect(self, x, y, scale):\n",
    "        return [self._get_point(x, y, scale), self._get_point(x + 1, y + 1, scale)]\n",
    "\n",
    "\n",
    "class BitmapLayer(VisLayer):\n",
    "    def __init__(self, bitmap):\n",
    "        self.bitmap = bitmap\n",
    "\n",
    "    @property\n",
    "    def shape(self):\n",
    "        return self.bitmap.shape\n",
    "\n",
    "    def get_image(self, shape, scale):\n",
    "        assert shape == self.shape\n",
    "        image = self.create_empty_image(self.shape, scale)\n",
    "        draw = ImageDraw.Draw(image)\n",
    "        xs, ys = self.shape\n",
    "        for x in range(xs):\n",
    "            for y in range(ys):\n",
    "                val = self.bitmap[x, y]\n",
    "                if val == World.WALL:\n",
    "                    fill = 'grey'\n",
    "                elif val == World.ROAD:\n",
    "                    fill = 'white'\n",
    "                else:\n",
    "                    raise ValueError\n",
    "                if scale >= 8:\n",
    "                    draw.rectangle(self._get_rect(x, y, scale), fill=fill, outline='grey', width=1)\n",
    "                else:\n",
    "                    draw.rectangle(self._get_rect(x, y, scale), fill=fill)\n",
    "        return image\n",
    "\n",
    "\n",
    "class SceneLayer(VisLayer):\n",
    "    def __init__(self, start, goal):\n",
    "        self.start = start\n",
    "        self.goal = goal\n",
    "\n",
    "    def get_image(self, shape, scale):\n",
    "        image = self.create_empty_image(shape, scale)\n",
    "        draw = ImageDraw.Draw(image)\n",
    "        draw.rectangle(self._get_rect(*self.start, scale), fill='green')\n",
    "        draw.rectangle(self._get_rect(*self.goal, scale), fill='red')\n",
    "        return image\n",
    "\n",
    "\n",
    "class PathLayer(VisLayer):\n",
    "    def __init__(self, path):\n",
    "        self.path = path\n",
    "\n",
    "    def get_image(self, shape, scale):\n",
    "        image = self.create_empty_image(shape, scale)\n",
    "        draw = ImageDraw.Draw(image)\n",
    "        segments = []\n",
    "        for lhs, rhs in zip(self.path[:-1], self.path[1:]):\n",
    "            segments.append((self._get_mid_point(lhs.x, lhs.y, scale),\n",
    "                             self._get_mid_point(rhs.x, rhs.y, scale)))\n",
    "        for seg in segments:\n",
    "            draw.line(seg, fill='red', width=int(scale / 16))\n",
    "        return image\n",
    "\n",
    "\n",
    "class ColorOverlayLayer(VisLayer):\n",
    "    def __init__(self, values, color=(255, 0, 0)):\n",
    "        self.values = values\n",
    "        self.color = color\n",
    "\n",
    "    @property\n",
    "    def shape(self):\n",
    "        return self.values.shape\n",
    "\n",
    "    def get_image(self, shape, scale):\n",
    "        assert shape == self.shape\n",
    "        image = self.create_empty_image(shape, scale)\n",
    "        draw = ImageDraw.Draw(image)\n",
    "        xs, ys = shape\n",
    "        for x in range(xs):\n",
    "            for y in range(ys):\n",
    "                value = int(self.values[x, y])\n",
    "                fill = (*self.color, min(max(value, 0), 255))\n",
    "                draw.rectangle(self._get_rect(x, y, scale), fill=fill)\n",
    "        return image\n",
    "    \n",
    "class MultiColorOverlayLayer(VisLayer):\n",
    "    def __init__(self, values, alpha):\n",
    "        self.values = values\n",
    "        self.alpha = alpha\n",
    "    \n",
    "    @property\n",
    "    def shape(self):\n",
    "        return self.values.shape\n",
    "    \n",
    "    def get_image(self, shape, scale):\n",
    "        assert shape == self.shape[:-1]\n",
    "        image = self.create_empty_image(shape, scale)\n",
    "        draw = ImageDraw.Draw(image)\n",
    "        xs, ys = shape\n",
    "        for x in range(xs):\n",
    "            for y in range(ys):\n",
    "                value = map(int, self.values[x, y])\n",
    "                fill = (*value, self.alpha)\n",
    "                draw.rectangle(self._get_rect(x, y, scale), fill=fill)\n",
    "        return image\n",
    "    \n",
    "\n",
    "class SubgoalLayer(VisLayer):\n",
    "    def __init__(self, subgoals):\n",
    "        self.subgoals = subgoals\n",
    "\n",
    "    def get_image(self, shape, scale):\n",
    "        m = np.zeros(shape)\n",
    "        for subgoal in self.subgoals:\n",
    "            m[subgoal.x, subgoal.y] += 1\n",
    "        m = normalize_alpha(m, upper=255)\n",
    "        return ColorOverlayLayer(m, color=(155, 0, 255)).get_image(shape, scale)\n",
    "\n",
    "\n",
    "class NoteLayer(VisLayer):\n",
    "    def __init__(self, note, font_scale=1):\n",
    "        self.note = note\n",
    "        self.font_scale = font_scale\n",
    "\n",
    "    def get_image(self, shape, scale):\n",
    "        image = self.create_empty_image(shape, scale)\n",
    "        draw = ImageDraw.Draw(image)\n",
    "        font = ImageFont.truetype('DroidSans.ttf', size=int(scale / 4) * self.font_scale)\n",
    "        if isinstance(self.note, dict):\n",
    "            for pos, text in self.note.items():\n",
    "                text = str(text)\n",
    "                draw.text(self._get_point(pos.x, pos.y, scale),\n",
    "                          text=text, fill='blue', font=font)\n",
    "        elif isinstance(self.note, np.ndarray):\n",
    "            for x in range(self.note.shape[0]):\n",
    "                for y in range(self.note.shape[1]):\n",
    "                    text = str(self.note[x, y])\n",
    "                    draw.text(self._get_point(x, y, scale),\n",
    "                              text=text, fill='blue', font=font)\n",
    "        return image\n",
    "\n",
    "\n",
    "class Vis(object):\n",
    "    def __init__(self, layers, scale=8):\n",
    "        self.layers = layers\n",
    "        self.scale = scale\n",
    "        self.shape = layers[0].shape\n",
    "\n",
    "    def get_image(self):\n",
    "        canvas = VisLayer.create_empty_image(self.shape, self.scale)\n",
    "\n",
    "        for layer in self.layers:\n",
    "            image = layer.get_image(self.shape, self.scale)\n",
    "            canvas = Image.alpha_composite(canvas, image)\n",
    "\n",
    "        return canvas\n",
    "\n",
    "    def save(self, open_=False, path=None):\n",
    "        name = str(uuid.uuid4()) + '.png'\n",
    "        path = path or pathlib.Path('temp_images/' + name)\n",
    "        self.get_image().save(path)\n",
    "        if open_:\n",
    "            self.open(path)\n",
    "        return path\n",
    "\n",
    "    @staticmethod\n",
    "    def open(path):\n",
    "        subprocess.run(['open', str(path)], check=True)\n",
    "\n",
    "    def display(self):\n",
    "        display.display(self.get_image())\n",
    "\n",
    "\n",
    "def normalize_alpha(x, upper=127):\n",
    "    x = x.astype(np.float64)\n",
    "    x -= np.min(x)\n",
    "    x /= (np.max(x) + np.finfo(np.float64).eps)\n",
    "    x *= upper\n",
    "    return x"
   ]
  },
  {
   "cell_type": "code",
   "execution_count": null,
   "metadata": {
    "ExecuteTime": {
     "end_time": "2020-04-06T06:08:57.910096Z",
     "start_time": "2020-04-06T06:08:57.852Z"
    }
   },
   "outputs": [],
   "source": [
    "@dataclass(order=True)\n",
    "class PrioritizedItem(object):\n",
    "    priority: int\n",
    "    g: int=field()\n",
    "    h: int=field()\n",
    "    pos: Any=field(compare=False)"
   ]
  },
  {
   "cell_type": "code",
   "execution_count": null,
   "metadata": {
    "ExecuteTime": {
     "end_time": "2020-04-06T06:08:57.910639Z",
     "start_time": "2020-04-06T06:08:57.854Z"
    }
   },
   "outputs": [],
   "source": [
    "def reconstruct(goal, came_from):\n",
    "    if goal not in came_from:\n",
    "        return []\n",
    "    else:\n",
    "        prev = came_from[goal]\n",
    "        return reconstruct(prev, came_from) + [prev]"
   ]
  },
  {
   "cell_type": "code",
   "execution_count": null,
   "metadata": {
    "ExecuteTime": {
     "end_time": "2020-04-06T06:08:57.911143Z",
     "start_time": "2020-04-06T06:08:57.855Z"
    }
   },
   "outputs": [],
   "source": [
    "def get_opt_path(world, start, goal):\n",
    "    frontier = queue.PriorityQueue()\n",
    "    closed = {start: 0}\n",
    "    came_from = {}\n",
    "    h = Pos.heuristic(start, goal)\n",
    "    frontier.put(PrioritizedItem(h, 0, h, start))\n",
    "\n",
    "    while not frontier.empty():\n",
    "        curr = frontier.get()\n",
    "        if curr.pos == goal:\n",
    "            poses = reconstruct(goal, came_from) + [goal]\n",
    "            return Path(world, start, goal, poses)\n",
    "        for adj in world.get_adjs(curr.pos):\n",
    "            g = curr.g + world.get_cost(curr.pos, adj)\n",
    "            if adj not in closed or g < closed[adj]:\n",
    "                came_from[adj] = curr.pos\n",
    "                closed[adj] = g\n",
    "                h = Pos.heuristic(adj, goal)\n",
    "                f = g + h\n",
    "                frontier.put(PrioritizedItem(f, g, h, adj))\n",
    "    return False"
   ]
  },
  {
   "cell_type": "code",
   "execution_count": null,
   "metadata": {
    "ExecuteTime": {
     "end_time": "2020-04-06T06:08:57.911683Z",
     "start_time": "2020-04-06T06:08:57.857Z"
    }
   },
   "outputs": [],
   "source": [
    "def sample_paths(world, limit=16, use_edges=False, verbose=False):\n",
    "    tiles = list(filter(lambda t: world.get(t) == World.ROAD, world))\n",
    "    if use_edges:\n",
    "        tiles = list(filter(\n",
    "            lambda t: any(world.get(adj) == World.WALL for adj in world.get_all_adjs(t)),\n",
    "            tiles\n",
    "        ))\n",
    "    opt_paths = []\n",
    "    for _ in tqdm_nb(list(range(limit)), desc=\"Building Optimal Paths\", disable=not verbose):\n",
    "        start = random.choice(tiles)\n",
    "        goal = random.choice(list(set(tiles) - set([start])))\n",
    "        opt_paths.append(get_opt_path(world, start, goal))\n",
    "    return opt_paths"
   ]
  },
  {
   "cell_type": "code",
   "execution_count": null,
   "metadata": {
    "ExecuteTime": {
     "end_time": "2020-04-06T06:08:57.912252Z",
     "start_time": "2020-04-06T06:08:57.858Z"
    }
   },
   "outputs": [],
   "source": [
    "def hill_climbable(world, start, goal):\n",
    "    visited = set()\n",
    "    curr = start\n",
    "    while True:\n",
    "        if curr == goal:\n",
    "            return True\n",
    "        adjs = world.get_adjs(curr)\n",
    "        vals = []\n",
    "        for adj in adjs:\n",
    "            g = world.get_cost(curr, adj)\n",
    "            h = Pos.heuristic(adj, goal)\n",
    "            vals.append(g + h)\n",
    "        curr = adjs[np.array(vals).argmin()]\n",
    "        if curr in visited:\n",
    "            return False\n",
    "        else:\n",
    "            visited.add(curr)"
   ]
  },
  {
   "cell_type": "code",
   "execution_count": null,
   "metadata": {
    "ExecuteTime": {
     "end_time": "2020-04-06T06:08:57.912743Z",
     "start_time": "2020-04-06T06:08:57.860Z"
    }
   },
   "outputs": [],
   "source": [
    "GOAL_HCS = Pos(-1, -1)"
   ]
  },
  {
   "cell_type": "code",
   "execution_count": null,
   "metadata": {
    "ExecuteTime": {
     "end_time": "2020-04-06T06:08:57.913331Z",
     "start_time": "2020-04-06T06:08:57.861Z"
    }
   },
   "outputs": [],
   "source": [
    "def get_earliest_hcs_linear(path):\n",
    "    for subgoal in reversed(path.poses):\n",
    "        if hill_climbable(path.world, path.start, subgoal):\n",
    "            return subgoal\n",
    "    raise ValueError\n",
    "    \n",
    "def get_earliest_hcs(path):\n",
    "    poses = path.poses\n",
    "    if len(poses) == 0:\n",
    "        return poses[0]\n",
    "    elif len(poses) == 1:\n",
    "        return poses[1]\n",
    "    lower = 0\n",
    "    upper = len(poses)\n",
    "    while True:\n",
    "        if upper - lower == 1:\n",
    "            return poses[lower]\n",
    "        idx = int((upper - lower) / 2) + lower\n",
    "        climbable = hill_climbable(path.world, path.start, poses[idx])\n",
    "        if climbable:\n",
    "            lower = idx\n",
    "        else:\n",
    "            upper = idx"
   ]
  },
  {
   "cell_type": "code",
   "execution_count": null,
   "metadata": {
    "ExecuteTime": {
     "end_time": "2020-04-06T06:08:57.913902Z",
     "start_time": "2020-04-06T06:08:57.862Z"
    }
   },
   "outputs": [],
   "source": [
    "def get_all_hcs(path):\n",
    "    hcses = []\n",
    "    while True:\n",
    "        hcs = get_earliest_hcs(path)\n",
    "        if hcs == path.goal:\n",
    "            return hcses\n",
    "        hcses.append(hcs)\n",
    "        start = hcs\n",
    "        poses = path.poses[path.poses.index(hcs):] \n",
    "        path = Path(world=path.world, start=start, goal=path.goal, poses=poses)"
   ]
  },
  {
   "cell_type": "code",
   "execution_count": null,
   "metadata": {
    "ExecuteTime": {
     "end_time": "2020-04-06T06:08:57.914371Z",
     "start_time": "2020-04-06T06:08:57.864Z"
    }
   },
   "outputs": [],
   "source": [
    "@dataclasses.dataclass\n",
    "class HCSPoint(object):\n",
    "    start: Pos\n",
    "    goal: Pos\n",
    "    hcs: Pos\n",
    "        \n",
    "    def xy(self):\n",
    "        x = np.array([pos_to_idx[self.start], pos_to_idx[self.goal]])\n",
    "        y = np.array([pos_to_idx[self.hcs]])\n",
    "        return x, y\n",
    "    \n",
    "    def vis(self, world):\n",
    "        return Vis([\n",
    "            BitmapLayer(world.bitmap),\n",
    "            SceneLayer(self.start, self.goal),\n",
    "            SubgoalLayer([self.hcs]),\n",
    "        ])"
   ]
  },
  {
   "cell_type": "code",
   "execution_count": null,
   "metadata": {
    "ExecuteTime": {
     "end_time": "2020-04-06T06:08:57.914901Z",
     "start_time": "2020-04-06T06:08:57.865Z"
    }
   },
   "outputs": [],
   "source": [
    "def add_hcses_to_paths(paths, verbose=False):\n",
    "    for path in tqdm_nb(paths, desc=\"Building HCS\", disable=not verbose):\n",
    "        path.hcses = get_all_hcs(path)\n",
    "\n",
    "def convert_paths_to_points(paths, combination=False, convert_goal=False, verbose=False):\n",
    "    points = []\n",
    "    if combination:\n",
    "        for path in tqdm_nb(paths, desc=\"Building Data Points\", disable=not verbose):\n",
    "            hcs_indices = [path.poses.index(hcs) for hcs in path.hcses]\n",
    "            for i, start in enumerate(path.poses):\n",
    "                for j, goal in enumerate(path.poses):\n",
    "                    if i + 1 == len(path.pose.path) or j == 0:\n",
    "                        continue\n",
    "                    hcs = next(\n",
    "                        (\n",
    "                            path.poses[hcs_idx]\n",
    "                            for hcs_idx in hcs_indices if hcs_idx > i\n",
    "                        ),\n",
    "                        goal\n",
    "                    )\n",
    "                    points.append(HCSPoint(start, goal, hcs))\n",
    "    else:\n",
    "        for path in tqdm_nb(paths, desc=\"Building Data Points\", disable=not verbose):\n",
    "            hcs_idx = 0\n",
    "            for start in path.poses:\n",
    "                if hcs_idx < len(path.hcses) and start == path.hcses[hcs_idx]:\n",
    "                    hcs_idx += 1\n",
    "                if hcs_idx < len(path.hcses):\n",
    "                    hcs = path.hcses[hcs_idx]\n",
    "                else:\n",
    "                    hcs = path.goal\n",
    "                points.append(HCSPoint(start, path.goal, hcs))\n",
    "    if convert_goal:\n",
    "        for point in points:\n",
    "            if point.hcs == point.goal:\n",
    "                point.hcs = GOAL_HCS\n",
    "    return points"
   ]
  },
  {
   "cell_type": "code",
   "execution_count": null,
   "metadata": {
    "ExecuteTime": {
     "end_time": "2020-04-06T06:08:57.915475Z",
     "start_time": "2020-04-06T06:08:57.866Z"
    }
   },
   "outputs": [],
   "source": [
    "class StreamingPointsDataset(torch.utils.data.IterableDataset):\n",
    "    def __init__(self, size=32, sample_rate=0.1):\n",
    "        self.sample_rate = sample_rate\n",
    "        self.size = size\n",
    "        \n",
    "    def __iter__(self):\n",
    "        paths = sample_paths(world, limit=self.size, verbose=False)\n",
    "        add_hcses_to_paths(paths)\n",
    "        points = convert_paths_to_points(paths)\n",
    "        points = random.sample(points, int(self.sample_rate * len(points)))\n",
    "        for p in points:\n",
    "            x, y = p.xy()\n",
    "            yield (torch.LongTensor(x), torch.LongTensor(y))"
   ]
  },
  {
   "cell_type": "code",
   "execution_count": null,
   "metadata": {
    "ExecuteTime": {
     "end_time": "2020-04-06T06:08:57.916106Z",
     "start_time": "2020-04-06T06:08:57.868Z"
    }
   },
   "outputs": [],
   "source": [
    "class PointDataset(torch.utils.data.Dataset):\n",
    "    def __init__(self, points):\n",
    "        self.xy = []\n",
    "        for p in points:\n",
    "            x, y = p.xy()\n",
    "            self.xy.append((torch.LongTensor(x),\n",
    "                            torch.LongTensor(y)))\n",
    "            \n",
    "    \n",
    "    def __getitem__(self, key):\n",
    "        return self.xy[key]\n",
    "    \n",
    "    def __len__(self):\n",
    "        return len(self.xy)"
   ]
  },
  {
   "cell_type": "code",
   "execution_count": null,
   "metadata": {
    "ExecuteTime": {
     "end_time": "2020-04-06T06:08:57.916660Z",
     "start_time": "2020-04-06T06:08:57.869Z"
    }
   },
   "outputs": [],
   "source": [
    "def plot_paths(world, paths):\n",
    "    path_freq = np.zeros_like(world.bitmap)\n",
    "    hcs_freq = np.zeros_like(world.bitmap)\n",
    "    for path in paths:\n",
    "        for pos in path.poses:\n",
    "            path_freq[pos.x, pos.y] += 1\n",
    "        for pos in path.hcses:\n",
    "            hcs_freq[pos.x, pos.y] += 1\n",
    "    path_freq = normalize_alpha(path_freq.astype(np.float64), upper=255)\n",
    "    hcs_freq = normalize_alpha(np.log1p(hcs_freq.astype(np.float64)), upper=255)\n",
    "    Vis([\n",
    "        BitmapLayer(world.bitmap),\n",
    "        ColorOverlayLayer(path_freq, color=(255, 0, 255)),\n",
    "    ]).display()\n",
    "    Vis([\n",
    "        BitmapLayer(world.bitmap),\n",
    "        ColorOverlayLayer(hcs_freq, color=(255, 0, 255)),\n",
    "    ]).display()"
   ]
  },
  {
   "cell_type": "code",
   "execution_count": null,
   "metadata": {
    "ExecuteTime": {
     "end_time": "2020-04-06T06:08:57.917204Z",
     "start_time": "2020-04-06T06:08:57.870Z"
    }
   },
   "outputs": [],
   "source": [
    "def hill_climb(world, start, subgoal, goal, num_steps=None):\n",
    "    visited = set([start])\n",
    "    poses = [start]\n",
    "    curr = start\n",
    "    while True and (num_steps is None or len(poses) < num_steps + 1):\n",
    "        if curr == goal or curr == subgoal:\n",
    "            return poses\n",
    "        adjs = world.get_adjs(curr)\n",
    "        vals = []\n",
    "        for adj in adjs:\n",
    "            g = world.get_cost(curr, adj)\n",
    "            h = Pos.heuristic(adj, subgoal)\n",
    "            vals.append(g + h)\n",
    "        curr = adjs[np.array(vals).argmin()]\n",
    "        if curr in visited:\n",
    "            return poses\n",
    "        else:\n",
    "            visited.add(curr)\n",
    "            poses.append(curr)\n",
    "    return poses"
   ]
  },
  {
   "cell_type": "code",
   "execution_count": null,
   "metadata": {
    "ExecuteTime": {
     "end_time": "2020-04-06T06:08:57.917753Z",
     "start_time": "2020-04-06T06:08:57.872Z"
    },
    "scrolled": false
   },
   "outputs": [],
   "source": [
    "# selected_worlds = get_selected()\n",
    "# world = selected_worlds['den020d.map']\n",
    "\n",
    "# paths = sample_paths(world, limit=8)\n",
    "# add_hcses_to_paths(paths)\n",
    "# points = convert_paths_to_points(paths)\n",
    "\n",
    "# for point in random.sample(points, 20):\n",
    "#     point.vis(world).display()"
   ]
  },
  {
   "cell_type": "code",
   "execution_count": null,
   "metadata": {
    "ExecuteTime": {
     "end_time": "2020-04-06T06:08:57.918296Z",
     "start_time": "2020-04-06T06:08:57.874Z"
    }
   },
   "outputs": [],
   "source": [
    "def fix_subgoal(env, subgoal):\n",
    "    if env.get(subgoal) == Map.ROAD:\n",
    "        return subgoal\n",
    "    \n",
    "    front = [subgoal]\n",
    "    closed = set()\n",
    "    while front:\n",
    "        target = front.pop()\n",
    "        if env.get(target) == Map.ROAD:\n",
    "            return target\n",
    "        closed.add(target)\n",
    "        for adj in env.get_all_adjs(target):\n",
    "            if adj not in closed:\n",
    "                front.append(adj)\n",
    "                closed.add(adj)\n",
    "    raise ValueError\n",
    "\n",
    "def get_subgoal(model, start, goal):\n",
    "    model.eval()\n",
    "    with torch.no_grad():\n",
    "        x = torch.LongTensor([pos_to_idx[start], pos_to_idx[goal]])\n",
    "        x = x.reshape(1, *x.shape)\n",
    "        out = model(x)\n",
    "        out = idx_to_pos[out.numpy().argmax(-1)[0]]\n",
    "        return out"
   ]
  },
  {
   "cell_type": "code",
   "execution_count": null,
   "metadata": {
    "ExecuteTime": {
     "end_time": "2020-04-06T06:08:57.918843Z",
     "start_time": "2020-04-06T06:08:57.876Z"
    }
   },
   "outputs": [],
   "source": [
    "def get_gif(images, fps=30, show=True):\n",
    "    fname = 'temp_images/' + str(uuid.uuid4()) + '.gif'\n",
    "    imageio.mimsave(fname, images, fps=fps)\n",
    "    if show:\n",
    "        display.display(display.Image(filename=fname))"
   ]
  },
  {
   "cell_type": "code",
   "execution_count": null,
   "metadata": {
    "ExecuteTime": {
     "end_time": "2020-04-06T06:08:57.919397Z",
     "start_time": "2020-04-06T06:08:57.877Z"
    }
   },
   "outputs": [],
   "source": [
    "class Model(nn.Module):\n",
    "    def __init__(\n",
    "        self,\n",
    "        vocab_size,\n",
    "        embed_dim=3,\n",
    "        hidden_dim=32\n",
    "    ):\n",
    "        super().__init__()\n",
    "        self.embed_dim = embed_dim\n",
    "        \n",
    "        self.embed = nn.Embedding(vocab_size, embed_dim)\n",
    "        self.fc1 = nn.Linear(embed_dim * 2, hidden_dim)\n",
    "        self.do1 = nn.Dropout()\n",
    "        self.fc2 = nn.Linear(hidden_dim, hidden_dim)\n",
    "        self.do2 = nn.Dropout()\n",
    "        self.fc3 = nn.Linear(hidden_dim, vocab_size)\n",
    "    \n",
    "    def forward(self, x):\n",
    "        # N, 2\n",
    "        x = self.embed(x)\n",
    "        # N, 2, embed_dim\n",
    "        x = x.reshape(-1, self.embed_dim * 2)\n",
    "        # N, embed_dim * 2\n",
    "        x = self.fc1(x)\n",
    "        x = self.do1(x)\n",
    "        x = F.relu(x)\n",
    "        x = self.fc2(x)\n",
    "        x = self.do2(x)\n",
    "        x = F.relu(x)\n",
    "        x = self.fc3(x)\n",
    "        x = F.log_softmax(x, dim=1)\n",
    "        # N, vocab_size\n",
    "        return x"
   ]
  },
  {
   "cell_type": "code",
   "execution_count": null,
   "metadata": {
    "ExecuteTime": {
     "end_time": "2020-04-06T06:08:57.919945Z",
     "start_time": "2020-04-06T06:08:57.878Z"
    }
   },
   "outputs": [],
   "source": [
    "class LargeEmbedModel(nn.Module):\n",
    "    def __init__(\n",
    "        self,\n",
    "        vocab_size,\n",
    "        embed_dim=32,\n",
    "        hidden_dim=512,\n",
    "    ):\n",
    "        super().__init__()\n",
    "        self.embed_dim = embed_dim\n",
    "        \n",
    "        self.embed = nn.Embedding(vocab_size, embed_dim)\n",
    "        self.fc1 = nn.Linear(embed_dim * 2, hidden_dim)\n",
    "        self.do1 = nn.Dropout()\n",
    "        self.fc3 = nn.Linear(hidden_dim, vocab_size)\n",
    "    \n",
    "    def forward(self, x):\n",
    "        # N, 2\n",
    "        x = self.embed(x)\n",
    "        # N, 2, embed_dim\n",
    "        x = x.reshape(-1, self.embed_dim * 2)\n",
    "        # N, embed_dim * 2\n",
    "        x = self.fc1(x)\n",
    "        x = self.do1(x)\n",
    "        x = F.relu(x)\n",
    "        x = self.fc3(x)\n",
    "        x = F.log_softmax(x, dim=1)\n",
    "        # N, vocab_size\n",
    "        return x"
   ]
  },
  {
   "cell_type": "code",
   "execution_count": null,
   "metadata": {
    "ExecuteTime": {
     "end_time": "2020-04-06T06:08:57.920555Z",
     "start_time": "2020-04-06T06:08:57.879Z"
    }
   },
   "outputs": [],
   "source": [
    "class SingleLayerEmbedModel(nn.Module):\n",
    "    def __init__(\n",
    "        self,\n",
    "        vocab_size,\n",
    "        embed_dim=32,\n",
    "        hidden_dim=512,\n",
    "    ):\n",
    "        super().__init__()\n",
    "        self.embed_dim = embed_dim\n",
    "        \n",
    "        self.embed = nn.Embedding(vocab_size, embed_dim)\n",
    "        self.fc = nn.Linear(embed_dim * 2, vocab_size)\n",
    "    \n",
    "    def forward(self, x):\n",
    "        # N, 2\n",
    "        x = self.embed(x)\n",
    "        # N, 2, embed_dim\n",
    "        x = x.reshape(-1, self.embed_dim * 2)\n",
    "        # N, embed_dim * 2\n",
    "        x = self.fc(x)\n",
    "        x = F.log_softmax(x, dim=1)\n",
    "        # N, vocab_size\n",
    "        return x"
   ]
  },
  {
   "cell_type": "code",
   "execution_count": null,
   "metadata": {
    "ExecuteTime": {
     "end_time": "2020-04-06T06:08:57.921117Z",
     "start_time": "2020-04-06T06:08:57.881Z"
    }
   },
   "outputs": [],
   "source": [
    "class ResModel(nn.Module):\n",
    "    def __init__(\n",
    "        self,\n",
    "        vocab_size,\n",
    "        embed_dim=32,\n",
    "#         hidden_dim=16,\n",
    "    ):\n",
    "        super().__init__()\n",
    "        self.embed_dim = embed_dim\n",
    "        \n",
    "        self.embed = nn.Embedding(vocab_size, embed_dim)\n",
    "        self.fcs = [nn.Linear(embed_dim * 2, embed_dim * 2) for _ in range(16)]\n",
    "        self.out = nn.Linear(embed_dim * 2, vocab_size)\n",
    "#         self.fcs = [nn.Linear()]\n",
    "    \n",
    "    def forward(self, x):\n",
    "        # N, 2\n",
    "        x = self.embed(x)\n",
    "        # N, 2, embed_dim\n",
    "        x = x.reshape(-1, self.embed_dim * 2)\n",
    "        # N, embed_dim * 2\n",
    "        for fc in self.fcs:\n",
    "            x = fc(x)\n",
    "        x = self.out(x)\n",
    "        x = F.log_softmax(x, dim=1)\n",
    "        # N, vocab_size\n",
    "        return x"
   ]
  },
  {
   "cell_type": "code",
   "execution_count": null,
   "metadata": {
    "ExecuteTime": {
     "end_time": "2020-04-06T06:08:57.921682Z",
     "start_time": "2020-04-06T06:08:57.882Z"
    }
   },
   "outputs": [],
   "source": [
    "def summary(model, input_size, batch_size=-1, device=torch.device('cuda:0'), dtypes=None):\n",
    "    result, params_info = summary_string(\n",
    "        model, input_size, batch_size, device, dtypes)\n",
    "    print(result)\n",
    "\n",
    "    return params_info\n",
    "\n",
    "\n",
    "def summary_string(model, input_size, batch_size=-1, device=torch.device('cuda:0'), dtypes=None):\n",
    "    if dtypes == None:\n",
    "        dtypes = [torch.FloatTensor]*len(input_size)\n",
    "\n",
    "    summary_str = ''\n",
    "\n",
    "    def register_hook(module):\n",
    "        def hook(module, input, output):\n",
    "            class_name = str(module.__class__).split(\".\")[-1].split(\"'\")[0]\n",
    "            module_idx = len(summary)\n",
    "\n",
    "            m_key = \"%s-%i\" % (class_name, module_idx + 1)\n",
    "            summary[m_key] = OrderedDict()\n",
    "            summary[m_key][\"input_shape\"] = list(input[0].size())\n",
    "            summary[m_key][\"input_shape\"][0] = batch_size\n",
    "            if isinstance(output, (list, tuple)):\n",
    "                summary[m_key][\"output_shape\"] = [\n",
    "                    [-1] + list(o.size())[1:] for o in output\n",
    "                ]\n",
    "            else:\n",
    "                summary[m_key][\"output_shape\"] = list(output.size())\n",
    "                summary[m_key][\"output_shape\"][0] = batch_size\n",
    "\n",
    "            params = 0\n",
    "            if hasattr(module, \"weight\") and hasattr(module.weight, \"size\"):\n",
    "                params += torch.prod(torch.LongTensor(list(module.weight.size())))\n",
    "                summary[m_key][\"trainable\"] = module.weight.requires_grad\n",
    "            if hasattr(module, \"bias\") and hasattr(module.bias, \"size\"):\n",
    "                params += torch.prod(torch.LongTensor(list(module.bias.size())))\n",
    "            summary[m_key][\"nb_params\"] = params\n",
    "\n",
    "        if (\n",
    "            not isinstance(module, nn.Sequential)\n",
    "            and not isinstance(module, nn.ModuleList)\n",
    "        ):\n",
    "            hooks.append(module.register_forward_hook(hook))\n",
    "\n",
    "    # multiple inputs to the network\n",
    "    if isinstance(input_size, tuple):\n",
    "        input_size = [input_size]\n",
    "\n",
    "    # batch_size of 2 for batchnorm\n",
    "    x = [torch.rand(2, *in_size).type(dtype).to(device=device)\n",
    "         for in_size, dtype in zip(input_size, dtypes)]\n",
    "\n",
    "    # create properties\n",
    "    summary = OrderedDict()\n",
    "    hooks = []\n",
    "\n",
    "    # register hook\n",
    "    model.apply(register_hook)\n",
    "\n",
    "    # make a forward pass\n",
    "    # print(x.shape)\n",
    "    model(*x)\n",
    "\n",
    "    # remove these hooks\n",
    "    for h in hooks:\n",
    "        h.remove()\n",
    "\n",
    "    summary_str += \"----------------------------------------------------------------\" + \"\\n\"\n",
    "    line_new = \"{:>20}  {:>25} {:>15}\".format(\n",
    "        \"Layer (type)\", \"Output Shape\", \"Param #\")\n",
    "    summary_str += line_new + \"\\n\"\n",
    "    summary_str += \"================================================================\" + \"\\n\"\n",
    "    total_params = 0\n",
    "    total_output = 0\n",
    "    trainable_params = 0\n",
    "    for layer in summary:\n",
    "        # input_shape, output_shape, trainable, nb_params\n",
    "        line_new = \"{:>20}  {:>25} {:>15}\".format(\n",
    "            layer,\n",
    "            str(summary[layer][\"output_shape\"]),\n",
    "            \"{0:,}\".format(summary[layer][\"nb_params\"]),\n",
    "        )\n",
    "        total_params += summary[layer][\"nb_params\"]\n",
    "\n",
    "        total_output += np.prod(summary[layer][\"output_shape\"])\n",
    "        if \"trainable\" in summary[layer]:\n",
    "            if summary[layer][\"trainable\"] == True:\n",
    "                trainable_params += summary[layer][\"nb_params\"]\n",
    "        summary_str += line_new + \"\\n\"\n",
    "\n",
    "    # assume 4 bytes/number (float on cuda).\n",
    "    total_input_size = abs(np.prod(sum(input_size, ()))\n",
    "                           * batch_size * 4. / (1024 ** 2.))\n",
    "    total_output_size = abs(2. * total_output * 4. /\n",
    "                            (1024 ** 2.))  # x2 for gradients\n",
    "    total_params_size = abs(total_params * 4. / (1024 ** 2.))\n",
    "    total_size = total_params_size + total_output_size + total_input_size\n",
    "\n",
    "    summary_str += \"================================================================\" + \"\\n\"\n",
    "    summary_str += \"Total params: {0:,}\".format(total_params) + \"\\n\"\n",
    "    summary_str += \"Trainable params: {0:,}\".format(trainable_params) + \"\\n\"\n",
    "    summary_str += \"Non-trainable params: {0:,}\".format(total_params -\n",
    "                                                        trainable_params) + \"\\n\"\n",
    "    summary_str += \"----------------------------------------------------------------\" + \"\\n\"\n",
    "    summary_str += \"Input size (MB): %0.2f\" % total_input_size + \"\\n\"\n",
    "    summary_str += \"Forward/backward pass size (MB): %0.2f\" % total_output_size + \"\\n\"\n",
    "    summary_str += \"Params size (MB): %0.2f\" % total_params_size + \"\\n\"\n",
    "    summary_str += \"Estimated Total Size (MB): %0.2f\" % total_size + \"\\n\"\n",
    "    summary_str += \"----------------------------------------------------------------\" + \"\\n\"\n",
    "    # return summary\n",
    "    return summary_str, (total_params, trainable_params)"
   ]
  }
 ],
 "metadata": {
  "hide_input": false,
  "kernelspec": {
   "display_name": "SSH zeyi@10.0.0.29 PC Remote GPU",
   "language": "",
   "name": "rik_ssh_zeyi_10_0_0_29_pcremotegpu"
  },
  "language_info": {
   "codemirror_mode": {
    "name": "ipython",
    "version": 3
   },
   "file_extension": ".py",
   "mimetype": "text/x-python",
   "name": "python",
   "nbconvert_exporter": "python",
   "pygments_lexer": "ipython3",
   "version": "3.7.6"
  },
  "toc": {
   "base_numbering": 1,
   "nav_menu": {},
   "number_sections": true,
   "sideBar": true,
   "skip_h1_title": false,
   "title_cell": "Table of Contents",
   "title_sidebar": "Contents",
   "toc_cell": false,
   "toc_position": {},
   "toc_section_display": true,
   "toc_window_display": false
  }
 },
 "nbformat": 4,
 "nbformat_minor": 4
}
