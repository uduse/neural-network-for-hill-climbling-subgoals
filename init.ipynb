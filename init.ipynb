{
 "cells": [
  {
   "cell_type": "code",
   "execution_count": 81,
   "metadata": {
    "ExecuteTime": {
     "end_time": "2020-03-22T01:07:16.897644Z",
     "start_time": "2020-03-22T01:07:16.895497Z"
    }
   },
   "outputs": [],
   "source": [
    "from nnhcs import *"
   ]
  },
  {
   "cell_type": "code",
   "execution_count": 124,
   "metadata": {
    "ExecuteTime": {
     "end_time": "2020-03-22T01:45:49.702000Z",
     "start_time": "2020-03-22T01:45:49.696149Z"
    }
   },
   "outputs": [],
   "source": [
    "# import tqdm\n",
    "from collections import namedtuple\n",
    "from dataclasses import dataclass, field\n",
    "from enum import Enum\n",
    "from IPython import display\n",
    "from PIL import Image, ImageDraw, ImageFont\n",
    "from tqdm.notebook import tqdm as tqdm_nb\n",
    "import tqdm\n",
    "from typing import Any\n",
    "import dataclasses\n",
    "import imageio\n",
    "import itertools\n",
    "import numpy as np\n",
    "import operator\n",
    "import os\n",
    "import pathlib\n",
    "import pickle\n",
    "import queue\n",
    "import random\n",
    "import shelve\n",
    "import shutil\n",
    "import subprocess\n",
    "import torch\n",
    "import torch.nn as nn\n",
    "import torch.nn.functional as F\n",
    "import torch.optim as optim\n",
    "import typing\n",
    "import uuid"
   ]
  },
  {
   "cell_type": "code",
   "execution_count": 141,
   "metadata": {
    "ExecuteTime": {
     "end_time": "2020-03-22T03:07:15.470490Z",
     "start_time": "2020-03-22T03:07:15.467293Z"
    }
   },
   "outputs": [],
   "source": [
    "device = torch.device('cuda' if torch.cuda.is_available() else 'cpu')"
   ]
  },
  {
   "cell_type": "code",
   "execution_count": 83,
   "metadata": {
    "ExecuteTime": {
     "end_time": "2020-03-22T01:07:17.255148Z",
     "start_time": "2020-03-22T01:07:17.251673Z"
    }
   },
   "outputs": [],
   "source": [
    "def put_shelve(name, data):\n",
    "    with shelve.open('my.db') as db:\n",
    "        db[name] = data\n",
    "\n",
    "def get_shelve(name):\n",
    "    with shelve.open('my.db') as db:\n",
    "        return db[name]"
   ]
  },
  {
   "cell_type": "code",
   "execution_count": 125,
   "metadata": {
    "ExecuteTime": {
     "end_time": "2020-03-22T01:47:08.350366Z",
     "start_time": "2020-03-22T01:47:08.346625Z"
    }
   },
   "outputs": [],
   "source": [
    "def put_pickle(name, data):\n",
    "    with open(name + '.pkl', 'wb') as f:\n",
    "        pickle.dump(data, f)\n",
    "        \n",
    "def get_pickle(name):\n",
    "    with open(name + '.pkl', 'rb') as f:\n",
    "        return pickle.load(f)"
   ]
  },
  {
   "cell_type": "code",
   "execution_count": 84,
   "metadata": {
    "ExecuteTime": {
     "end_time": "2020-03-22T01:07:17.432813Z",
     "start_time": "2020-03-22T01:07:17.424868Z"
    }
   },
   "outputs": [],
   "source": [
    "class Replay(object):\n",
    "    def __init__(self, env, scene, path, h_updates, cost):\n",
    "        self.env = env\n",
    "        self.scene = scene\n",
    "        self.path = path\n",
    "        self.h_updates = h_updates\n",
    "        self.cost = cost\n",
    "    \n",
    "    def print(self):\n",
    "        print(self.env.name, self.scene.opt, self.cost)\n",
    "        \n",
    "    def vis(self):\n",
    "        return Vis([\n",
    "            BitmapLayer(env.bitmap),\n",
    "            SceneLayer(scene),\n",
    "            PathLayer(self.path),\n",
    "#             ColorOverlayLayer(self.h_updates),\n",
    "        ])"
   ]
  },
  {
   "cell_type": "code",
   "execution_count": 85,
   "metadata": {
    "ExecuteTime": {
     "end_time": "2020-03-22T01:07:17.588041Z",
     "start_time": "2020-03-22T01:07:17.577600Z"
    }
   },
   "outputs": [],
   "source": [
    "class Algorithm(object):\n",
    "    def get_next_pos(self, curr, goal, env):\n",
    "        raise NotImplementedError\n",
    "        \n",
    "class LRTA(Algorithm):\n",
    "    def __init__(self, weight=1):\n",
    "        self.h = None\n",
    "        self.h_updates = None\n",
    "        self.weight = weight\n",
    "        \n",
    "    def init_h(self, env, goal):\n",
    "        self.h = np.zeros_like(env.bitmap)\n",
    "        self.h_updates = np.zeros_like(env.bitmap)\n",
    "        for pos in env:\n",
    "            if env.get(pos) == World.ROAD:\n",
    "                self.h[pos.x, pos.y] = Pos.heuristic(pos, goal)\n",
    "        \n",
    "    def get_next_pos(self, curr, goal, env, time=None):\n",
    "        adjs = env.get_adjs(curr)\n",
    "        if not adjs:\n",
    "            raise ValueError\n",
    "        \n",
    "        adj_vals = []\n",
    "        for adj in adjs:\n",
    "            g = env.get_cost(curr, adj)\n",
    "            h = self.h[adj.x, adj.y]\n",
    "            f = (g + h) * self.weight\n",
    "            adj_vals.append((f, adj))\n",
    "            \n",
    "        adj_vals.sort(key=operator.itemgetter(0))\n",
    "        _, best_group = next(itertools.groupby(adj_vals, key=operator.itemgetter(0)))\n",
    "        best_f, best_adj = random.choice(list(best_group))\n",
    "            \n",
    "        if best_f > self.h[curr.x, curr.y]:\n",
    "            diff = best_f - self.h[curr.x, curr.y]\n",
    "            self.h_updates[curr.x, curr.y] += diff\n",
    "            self.h[curr.x, curr.y] = best_f\n",
    "#             print(f\"{curr} -> {f}\")\n",
    "        return best_adj"
   ]
  },
  {
   "cell_type": "code",
   "execution_count": 86,
   "metadata": {
    "ExecuteTime": {
     "end_time": "2020-03-22T01:07:17.734541Z",
     "start_time": "2020-03-22T01:07:17.729642Z"
    }
   },
   "outputs": [],
   "source": [
    "class Path(object):\n",
    "    def __init__(self, world, start, goal, poses, hcses=None):\n",
    "        self.world = world\n",
    "        self.start = start\n",
    "        self.goal = goal\n",
    "        self.poses = poses\n",
    "        self.hcses = hcses\n",
    "        \n",
    "    def vis(self):\n",
    "        return Vis([\n",
    "            BitmapLayer(self.world.bitmap),\n",
    "            SceneLayer(self.start, self.goal),\n",
    "            PathLayer(self.poses),\n",
    "            SubgoalLayer(self.hcses),\n",
    "        ])"
   ]
  },
  {
   "cell_type": "code",
   "execution_count": 87,
   "metadata": {
    "ExecuteTime": {
     "end_time": "2020-03-22T01:07:17.884939Z",
     "start_time": "2020-03-22T01:07:17.880252Z"
    }
   },
   "outputs": [],
   "source": [
    "def run(world, scene, algo):\n",
    "    algo.init_h(world, scene.goal)\n",
    "    curr_pos = scene.start\n",
    "    total_cost = 0\n",
    "    path = [curr_pos]\n",
    "    time = 0\n",
    "    while curr_pos != scene.goal:\n",
    "#         print(curr_pos)\n",
    "        next_pos = algo.get_next_pos(curr_pos, scene.goal, world, time)\n",
    "        assert world.is_adj(curr_pos, next_pos)\n",
    "        total_cost += world.get_cost(curr_pos, next_pos)\n",
    "        path.append(next_pos)\n",
    "        curr_pos = next_pos\n",
    "        time += 1\n",
    "    return Replay(world, scene, path, algo.h_updates, total_cost)"
   ]
  },
  {
   "cell_type": "code",
   "execution_count": 88,
   "metadata": {
    "ExecuteTime": {
     "end_time": "2020-03-22T01:07:18.221159Z",
     "start_time": "2020-03-22T01:07:18.186243Z"
    }
   },
   "outputs": [],
   "source": [
    "class VisLayer(object):\n",
    "    @classmethod\n",
    "    def create_empty_image(cls, shape, scale):\n",
    "        return Image.new('RGBA', (scale * shape[0], scale * shape[1]))\n",
    "\n",
    "    # @property\n",
    "    # def shape(self):\n",
    "    #     raise NotImplementedError\n",
    "\n",
    "    def _get_point(self, x, y, scale):\n",
    "        return (x * scale, y * scale)\n",
    "\n",
    "    def _get_mid_point(self, x, y, scale):\n",
    "        return (x * scale + scale / 2, y * scale + scale / 2)\n",
    "\n",
    "    def _get_rect(self, x, y, scale):\n",
    "        return [self._get_point(x, y, scale), self._get_point(x + 1, y + 1, scale)]\n",
    "\n",
    "\n",
    "class BitmapLayer(VisLayer):\n",
    "    def __init__(self, bitmap):\n",
    "        self.bitmap = bitmap\n",
    "\n",
    "    @property\n",
    "    def shape(self):\n",
    "        return self.bitmap.shape\n",
    "\n",
    "    def get_image(self, shape, scale):\n",
    "        assert shape == self.shape\n",
    "        image = self.create_empty_image(self.shape, scale)\n",
    "        draw = ImageDraw.Draw(image)\n",
    "        xs, ys = self.shape\n",
    "        for x in range(xs):\n",
    "            for y in range(ys):\n",
    "                val = self.bitmap[x, y]\n",
    "                if val == World.WALL:\n",
    "                    fill = 'grey'\n",
    "                elif val == World.ROAD:\n",
    "                    fill = 'white'\n",
    "                else:\n",
    "                    raise ValueError\n",
    "                if scale >= 8:\n",
    "                    draw.rectangle(self._get_rect(x, y, scale), fill=fill, outline='grey', width=1)\n",
    "                else:\n",
    "                    draw.rectangle(self._get_rect(x, y, scale), fill=fill)\n",
    "        return image\n",
    "\n",
    "\n",
    "class SceneLayer(VisLayer):\n",
    "    def __init__(self, start, goal):\n",
    "        self.start = start\n",
    "        self.goal = goal\n",
    "\n",
    "    def get_image(self, shape, scale):\n",
    "        image = self.create_empty_image(shape, scale)\n",
    "        draw = ImageDraw.Draw(image)\n",
    "        draw.rectangle(self._get_rect(*self.start, scale), fill='green')\n",
    "        draw.rectangle(self._get_rect(*self.goal, scale), fill='red')\n",
    "        return image\n",
    "\n",
    "\n",
    "class PathLayer(VisLayer):\n",
    "    def __init__(self, path):\n",
    "        self.path = path\n",
    "\n",
    "    def get_image(self, shape, scale):\n",
    "        image = self.create_empty_image(shape, scale)\n",
    "        draw = ImageDraw.Draw(image)\n",
    "        segments = []\n",
    "        for lhs, rhs in zip(self.path[:-1], self.path[1:]):\n",
    "            segments.append((self._get_mid_point(lhs.x, lhs.y, scale),\n",
    "                             self._get_mid_point(rhs.x, rhs.y, scale)))\n",
    "        for seg in segments:\n",
    "            draw.line(seg, fill='red', width=int(scale / 16))\n",
    "        return image\n",
    "\n",
    "\n",
    "class ColorOverlayLayer(VisLayer):\n",
    "    def __init__(self, values, color=(255, 0, 0)):\n",
    "        self.values = values\n",
    "        self.color = color\n",
    "\n",
    "    @property\n",
    "    def shape(self):\n",
    "        return self.values.shape\n",
    "\n",
    "    def get_image(self, shape, scale):\n",
    "        assert shape == self.shape\n",
    "        image = self.create_empty_image(shape, scale)\n",
    "        draw = ImageDraw.Draw(image)\n",
    "        xs, ys = shape\n",
    "        for x in range(xs):\n",
    "            for y in range(ys):\n",
    "                value = int(self.values[x, y])\n",
    "                fill = (*self.color, min(max(value, 0), 255))\n",
    "                draw.rectangle(self._get_rect(x, y, scale), fill=fill)\n",
    "        return image\n",
    "    \n",
    "class MultiColorOverlayLayer(VisLayer):\n",
    "    def __init__(self, values, alpha):\n",
    "        self.values = values\n",
    "        self.alpha = alpha\n",
    "    \n",
    "    @property\n",
    "    def shape(self):\n",
    "        return self.values.shape\n",
    "    \n",
    "    def get_image(self, shape, scale):\n",
    "        assert shape == self.shape[:-1]\n",
    "        image = self.create_empty_image(shape, scale)\n",
    "        draw = ImageDraw.Draw(image)\n",
    "        xs, ys = shape\n",
    "        for x in range(xs):\n",
    "            for y in range(ys):\n",
    "                value = map(int, self.values[x, y])\n",
    "                fill = (*value, self.alpha)\n",
    "                draw.rectangle(self._get_rect(x, y, scale), fill=fill)\n",
    "        return image\n",
    "    \n",
    "\n",
    "class SubgoalLayer(VisLayer):\n",
    "    def __init__(self, subgoals):\n",
    "        self.subgoals = subgoals\n",
    "\n",
    "    def get_image(self, shape, scale):\n",
    "        m = np.zeros(shape)\n",
    "        for subgoal in self.subgoals:\n",
    "            m[subgoal.x, subgoal.y] += 1\n",
    "        m = normalize_alpha(m, upper=255)\n",
    "        return ColorOverlayLayer(m, color=(155, 0, 255)).get_image(shape, scale)\n",
    "\n",
    "\n",
    "class NoteLayer(VisLayer):\n",
    "    def __init__(self, note, font_scale=1):\n",
    "        self.note = note\n",
    "        self.font_scale = font_scale\n",
    "\n",
    "    def get_image(self, shape, scale):\n",
    "        image = self.create_empty_image(shape, scale)\n",
    "        draw = ImageDraw.Draw(image)\n",
    "        font = ImageFont.truetype('DroidSans.ttf', size=int(scale / 4) * self.font_scale)\n",
    "        if isinstance(self.note, dict):\n",
    "            for pos, text in self.note.items():\n",
    "                text = str(text)\n",
    "                draw.text(self._get_point(pos.x, pos.y, scale),\n",
    "                          text=text, fill='blue', font=font)\n",
    "        elif isinstance(self.note, np.ndarray):\n",
    "            for x in range(self.note.shape[0]):\n",
    "                for y in range(self.note.shape[1]):\n",
    "                    text = str(self.note[x, y])\n",
    "                    draw.text(self._get_point(x, y, scale),\n",
    "                              text=text, fill='blue', font=font)\n",
    "        return image\n",
    "\n",
    "\n",
    "class Vis(object):\n",
    "    def __init__(self, layers, scale=8):\n",
    "        self.layers = layers\n",
    "        self.scale = scale\n",
    "        self.shape = layers[0].shape\n",
    "\n",
    "    def get_image(self):\n",
    "        canvas = VisLayer.create_empty_image(self.shape, self.scale)\n",
    "\n",
    "        for layer in self.layers:\n",
    "            image = layer.get_image(self.shape, self.scale)\n",
    "            canvas = Image.alpha_composite(canvas, image)\n",
    "\n",
    "        return canvas\n",
    "\n",
    "    def save(self, open_=False, path=None):\n",
    "        name = str(uuid.uuid4()) + '.png'\n",
    "        path = path or pathlib.Path('temp_images/' + name)\n",
    "        self.get_image().save(path)\n",
    "        if open_:\n",
    "            self.open(path)\n",
    "        return path\n",
    "\n",
    "    @staticmethod\n",
    "    def open(path):\n",
    "        subprocess.run(['open', str(path)], check=True)\n",
    "\n",
    "    def display(self):\n",
    "        display.display(self.get_image())\n",
    "\n",
    "\n",
    "def normalize_alpha(x, upper=127):\n",
    "    x = x.astype(np.float64)\n",
    "    x -= np.min(x)\n",
    "    x /= (np.max(x) + np.finfo(np.float64).eps)\n",
    "    x *= upper\n",
    "    return x"
   ]
  },
  {
   "cell_type": "code",
   "execution_count": 89,
   "metadata": {
    "ExecuteTime": {
     "end_time": "2020-03-22T01:07:18.237866Z",
     "start_time": "2020-03-22T01:07:18.234329Z"
    }
   },
   "outputs": [],
   "source": [
    "@dataclass(order=True)\n",
    "class PrioritizedItem(object):\n",
    "    priority: int\n",
    "    g: int=field()\n",
    "    h: int=field()\n",
    "    pos: Any=field(compare=False)"
   ]
  },
  {
   "cell_type": "code",
   "execution_count": 90,
   "metadata": {
    "ExecuteTime": {
     "end_time": "2020-03-22T01:07:18.415439Z",
     "start_time": "2020-03-22T01:07:18.411419Z"
    }
   },
   "outputs": [],
   "source": [
    "def reconstruct(goal, came_from):\n",
    "    if goal not in came_from:\n",
    "        return []\n",
    "    else:\n",
    "        prev = came_from[goal]\n",
    "        return reconstruct(prev, came_from) + [prev]"
   ]
  },
  {
   "cell_type": "code",
   "execution_count": 91,
   "metadata": {
    "ExecuteTime": {
     "end_time": "2020-03-22T01:07:18.587473Z",
     "start_time": "2020-03-22T01:07:18.579920Z"
    }
   },
   "outputs": [],
   "source": [
    "def get_opt_path(world, start, goal):\n",
    "    frontier = queue.PriorityQueue()\n",
    "    closed = {start: 0}\n",
    "    came_from = {}\n",
    "    h = Pos.heuristic(start, goal)\n",
    "    frontier.put(PrioritizedItem(h, 0, h, start))\n",
    "\n",
    "    while not frontier.empty():\n",
    "        curr = frontier.get()\n",
    "        if curr.pos == goal:\n",
    "            poses = reconstruct(goal, came_from) + [goal]\n",
    "            return Path(world, start, goal, poses)\n",
    "        for adj in world.get_adjs(curr.pos):\n",
    "            g = curr.g + world.get_cost(curr.pos, adj)\n",
    "            if adj not in closed or g < closed[adj]:\n",
    "                came_from[adj] = curr.pos\n",
    "                closed[adj] = g\n",
    "                h = Pos.heuristic(adj, goal)\n",
    "                f = g + h\n",
    "                frontier.put(PrioritizedItem(f, g, h, adj))\n",
    "    return False"
   ]
  },
  {
   "cell_type": "code",
   "execution_count": 92,
   "metadata": {
    "ExecuteTime": {
     "end_time": "2020-03-22T01:07:18.752264Z",
     "start_time": "2020-03-22T01:07:18.745914Z"
    }
   },
   "outputs": [],
   "source": [
    "def sample_paths(world, limit=16, use_edges=False, verbose=False):\n",
    "    tiles = list(filter(lambda t: world.get(t) == World.ROAD, world))\n",
    "    if use_edges:\n",
    "        tiles = list(filter(\n",
    "            lambda t: any(world.get(adj) == World.WALL for adj in world.get_all_adjs(t)),\n",
    "            tiles\n",
    "        ))\n",
    "    opt_paths = []\n",
    "    for _ in tqdm_nb(list(range(limit)), desc=\"Building Optimal Paths\", disable=not verbose):\n",
    "        start = random.choice(tiles)\n",
    "        goal = random.choice(list(set(tiles) - set([start])))\n",
    "        opt_paths.append(get_opt_path(world, start, goal))\n",
    "    return opt_paths"
   ]
  },
  {
   "cell_type": "code",
   "execution_count": 93,
   "metadata": {
    "ExecuteTime": {
     "end_time": "2020-03-22T01:07:18.910959Z",
     "start_time": "2020-03-22T01:07:18.905609Z"
    }
   },
   "outputs": [],
   "source": [
    "def hill_climbable(world, start, goal):\n",
    "    visited = set()\n",
    "    curr = start\n",
    "    while True:\n",
    "        if curr == goal:\n",
    "            return True\n",
    "        adjs = world.get_adjs(curr)\n",
    "        vals = []\n",
    "        for adj in adjs:\n",
    "            g = world.get_cost(curr, adj)\n",
    "            h = Pos.heuristic(adj, goal)\n",
    "            vals.append(g + h)\n",
    "        curr = adjs[np.array(vals).argmin()]\n",
    "        if curr in visited:\n",
    "            return False\n",
    "        else:\n",
    "            visited.add(curr)"
   ]
  },
  {
   "cell_type": "code",
   "execution_count": 94,
   "metadata": {
    "ExecuteTime": {
     "end_time": "2020-03-22T01:07:19.077330Z",
     "start_time": "2020-03-22T01:07:19.074614Z"
    }
   },
   "outputs": [],
   "source": [
    "GOAL_HCS = Pos(-1, -1)"
   ]
  },
  {
   "cell_type": "code",
   "execution_count": 95,
   "metadata": {
    "ExecuteTime": {
     "end_time": "2020-03-22T01:07:19.238757Z",
     "start_time": "2020-03-22T01:07:19.232218Z"
    }
   },
   "outputs": [],
   "source": [
    "def get_earliest_hcs_linear(path):\n",
    "    for subgoal in reversed(path.poses):\n",
    "        if hill_climbable(path.world, path.start, subgoal):\n",
    "            return subgoal\n",
    "    raise ValueError\n",
    "    \n",
    "def get_earliest_hcs(path):\n",
    "    poses = path.poses\n",
    "    if len(poses) == 0:\n",
    "        return poses[0]\n",
    "    elif len(poses) == 1:\n",
    "        return poses[1]\n",
    "    lower = 0\n",
    "    upper = len(poses)\n",
    "    while True:\n",
    "        if upper - lower == 1:\n",
    "            return poses[lower]\n",
    "        idx = int((upper - lower) / 2) + lower\n",
    "        climbable = hill_climbable(path.world, path.start, poses[idx])\n",
    "        if climbable:\n",
    "            lower = idx\n",
    "        else:\n",
    "            upper = idx"
   ]
  },
  {
   "cell_type": "code",
   "execution_count": 96,
   "metadata": {
    "ExecuteTime": {
     "end_time": "2020-03-22T01:07:19.397355Z",
     "start_time": "2020-03-22T01:07:19.392631Z"
    }
   },
   "outputs": [],
   "source": [
    "def get_all_hcs(path):\n",
    "    hcses = []\n",
    "    while True:\n",
    "        hcs = get_earliest_hcs(path)\n",
    "        if hcs == path.goal:\n",
    "            return hcses\n",
    "        hcses.append(hcs)\n",
    "        start = hcs\n",
    "        poses = path.poses[path.poses.index(hcs):] \n",
    "        path = Path(world=path.world, start=start, goal=path.goal, poses=poses)"
   ]
  },
  {
   "cell_type": "code",
   "execution_count": 133,
   "metadata": {
    "ExecuteTime": {
     "end_time": "2020-03-22T02:21:28.251825Z",
     "start_time": "2020-03-22T02:21:28.247605Z"
    }
   },
   "outputs": [],
   "source": [
    "@dataclasses.dataclass\n",
    "class HCSPoint(object):\n",
    "    start: Pos\n",
    "    goal: Pos\n",
    "    hcs: Pos\n",
    "        \n",
    "    def xy(self):\n",
    "        x = np.array([pos_to_idx[self.start], pos_to_idx[self.goal]])\n",
    "        y = np.array([pos_to_idx[self.hcs]])\n",
    "        return x, y\n",
    "    \n",
    "    def vis(self, world):\n",
    "        return Vis([\n",
    "            BitmapLayer(world.bitmap),\n",
    "            SceneLayer(self.start, self.goal),\n",
    "            SubgoalLayer([self.hcs]),\n",
    "        ])"
   ]
  },
  {
   "cell_type": "code",
   "execution_count": 117,
   "metadata": {
    "ExecuteTime": {
     "end_time": "2020-03-22T01:14:43.445793Z",
     "start_time": "2020-03-22T01:14:43.433910Z"
    }
   },
   "outputs": [],
   "source": [
    "def add_hcses_to_paths(paths, verbose=False):\n",
    "    for path in tqdm_nb(paths, desc=\"Building HCS\", disable=not verbose):\n",
    "        path.hcses = get_all_hcs(path)\n",
    "\n",
    "def convert_paths_to_points(paths, combination=False, convert_goal=False, verbose=False):\n",
    "    points = []\n",
    "    if combination:\n",
    "        for path in tqdm_nb(paths, desc=\"Building Data Points\", disable=not verbose):\n",
    "            hcs_indices = [path.poses.index(hcs) for hcs in path.hcses]\n",
    "            for i, start in enumerate(path.poses):\n",
    "                for j, goal in enumerate(path.poses):\n",
    "                    if i + 1 == len(path.pose.path) or j == 0:\n",
    "                        continue\n",
    "                    hcs = next(\n",
    "                        (\n",
    "                            path.poses[hcs_idx]\n",
    "                            for hcs_idx in hcs_indices if hcs_idx > i\n",
    "                        ),\n",
    "                        goal\n",
    "                    )\n",
    "                    points.append(HCSPoint(start, goal, hcs))\n",
    "    else:\n",
    "        for path in tqdm_nb(paths, desc=\"Building Data Points\", disable=not verbose):\n",
    "            hcs_idx = 0\n",
    "            for start in path.poses:\n",
    "                if hcs_idx < len(path.hcses) and start == path.hcses[hcs_idx]:\n",
    "                    hcs_idx += 1\n",
    "                if hcs_idx < len(path.hcses):\n",
    "                    hcs = path.hcses[hcs_idx]\n",
    "                else:\n",
    "                    hcs = path.goal\n",
    "                points.append(HCSPoint(start, path.goal, hcs))\n",
    "    if convert_goal:\n",
    "        for point in points:\n",
    "            if point.hcs == point.goal:\n",
    "                point.hcs = GOAL_HCS\n",
    "    return points"
   ]
  },
  {
   "cell_type": "code",
   "execution_count": 136,
   "metadata": {
    "ExecuteTime": {
     "end_time": "2020-03-22T02:32:34.820880Z",
     "start_time": "2020-03-22T02:32:34.815089Z"
    }
   },
   "outputs": [],
   "source": [
    "class StreamingPointsDataset(torch.utils.data.IterableDataset):\n",
    "    def __init__(self, size=32, sample_rate=0.1):\n",
    "        self.sample_rate = sample_rate\n",
    "        self.size = size\n",
    "        \n",
    "    def __iter__(self):\n",
    "        paths = sample_paths(world, limit=self.size, verbose=False)\n",
    "        add_hcses_to_paths(paths)\n",
    "        points = convert_paths_to_points(paths)\n",
    "        points = random.sample(points, int(self.sample_rate * len(points)))\n",
    "        for p in points:\n",
    "            x, y = p.xy()\n",
    "            yield (torch.LongTensor(x), torch.LongTensor(y))"
   ]
  },
  {
   "cell_type": "code",
   "execution_count": 119,
   "metadata": {
    "ExecuteTime": {
     "end_time": "2020-03-22T01:14:44.486015Z",
     "start_time": "2020-03-22T01:14:44.480644Z"
    }
   },
   "outputs": [],
   "source": [
    "class PointDataset(torch.utils.data.Dataset):\n",
    "    def __init__(self, points):\n",
    "        self.xy = []\n",
    "        for p in points:\n",
    "            x, y = p.xy()\n",
    "            self.xy.append((torch.LongTensor(x),\n",
    "                            torch.LongTensor(y)))\n",
    "            \n",
    "    \n",
    "    def __getitem__(self, key):\n",
    "        return self.xy[key]\n",
    "    \n",
    "    def __len__(self):\n",
    "        return len(self.xy)"
   ]
  },
  {
   "cell_type": "code",
   "execution_count": 123,
   "metadata": {
    "ExecuteTime": {
     "end_time": "2020-03-22T01:18:45.210600Z",
     "start_time": "2020-03-22T01:18:45.203725Z"
    }
   },
   "outputs": [],
   "source": [
    "def plot_paths(world, paths):\n",
    "    path_freq = np.zeros_like(world.bitmap)\n",
    "    hcs_freq = np.zeros_like(world.bitmap)\n",
    "    for path in paths:\n",
    "        for pos in path.poses:\n",
    "            path_freq[pos.x, pos.y] += 1\n",
    "        for pos in path.hcses:\n",
    "            hcs_freq[pos.x, pos.y] += 1\n",
    "    path_freq = normalize_alpha(path_freq.astype(np.float64), upper=255)\n",
    "    hcs_freq = normalize_alpha(np.log1p(hcs_freq.astype(np.float64)), upper=255)\n",
    "    Vis([\n",
    "        BitmapLayer(world.bitmap),\n",
    "        ColorOverlayLayer(path_freq, color=(255, 0, 255)),\n",
    "    ]).display()\n",
    "    Vis([\n",
    "        BitmapLayer(world.bitmap),\n",
    "        ColorOverlayLayer(hcs_freq, color=(255, 0, 255)),\n",
    "    ]).display()"
   ]
  },
  {
   "cell_type": "code",
   "execution_count": null,
   "metadata": {},
   "outputs": [],
   "source": [
    "def hill_climb(world, start, subgoal, goal, num_steps=None):\n",
    "    visited = set([start])\n",
    "    poses = [start]\n",
    "    curr = start\n",
    "    while True and (num_steps is None or len(poses) < num_steps + 1):\n",
    "        if curr == goal or curr == subgoal:\n",
    "            return poses\n",
    "        adjs = world.get_adjs(curr)\n",
    "        vals = []\n",
    "        for adj in adjs:\n",
    "            g = world.get_cost(curr, adj)\n",
    "            h = Pos.heuristic(adj, subgoal)\n",
    "            vals.append(g + h)\n",
    "        curr = adjs[np.array(vals).argmin()]\n",
    "        if curr in visited:\n",
    "            return poses\n",
    "        else:\n",
    "            visited.add(curr)\n",
    "            poses.append(curr)\n",
    "    return poses"
   ]
  },
  {
   "cell_type": "code",
   "execution_count": 137,
   "metadata": {
    "ExecuteTime": {
     "end_time": "2020-03-22T02:32:39.263414Z",
     "start_time": "2020-03-22T02:32:39.261257Z"
    },
    "scrolled": false
   },
   "outputs": [],
   "source": [
    "# selected_worlds = get_selected()\n",
    "# world = selected_worlds['den020d.map']\n",
    "\n",
    "# paths = sample_paths(world, limit=8)\n",
    "# add_hcses_to_paths(paths)\n",
    "# points = convert_paths_to_points(paths)\n",
    "\n",
    "# for point in random.sample(points, 20):\n",
    "#     point.vis(world).display()"
   ]
  },
  {
   "cell_type": "code",
   "execution_count": 138,
   "metadata": {
    "ExecuteTime": {
     "end_time": "2020-03-22T02:32:40.241307Z",
     "start_time": "2020-03-22T02:32:40.233806Z"
    }
   },
   "outputs": [],
   "source": [
    "def fix_subgoal(env, subgoal):\n",
    "    if env.get(subgoal) == Map.ROAD:\n",
    "        return subgoal\n",
    "    \n",
    "    front = [subgoal]\n",
    "    closed = set()\n",
    "    while front:\n",
    "        target = front.pop()\n",
    "        if env.get(target) == Map.ROAD:\n",
    "            return target\n",
    "        closed.add(target)\n",
    "        for adj in env.get_all_adjs(target):\n",
    "            if adj not in closed:\n",
    "                front.append(adj)\n",
    "                closed.add(adj)\n",
    "    raise ValueError\n",
    "\n",
    "def get_subgoal(model, start, goal):\n",
    "    model.eval()\n",
    "    with torch.no_grad():\n",
    "        x = torch.LongTensor([pos_to_idx[start], pos_to_idx[goal]])\n",
    "        x = x.reshape(1, *x.shape)\n",
    "        out = model(x)\n",
    "        out = idx_to_pos[out.numpy().argmax(-1)[0]]\n",
    "        return out"
   ]
  },
  {
   "cell_type": "code",
   "execution_count": 139,
   "metadata": {
    "ExecuteTime": {
     "end_time": "2020-03-22T02:32:40.698874Z",
     "start_time": "2020-03-22T02:32:40.695118Z"
    }
   },
   "outputs": [],
   "source": [
    "def get_gif(images, fps=30, show=True):\n",
    "    fname = 'temp_images/' + str(uuid.uuid4()) + '.gif'\n",
    "    imageio.mimsave(fname, images, fps=fps)\n",
    "    if show:\n",
    "        display.display(display.Image(filename=fname))"
   ]
  },
  {
   "cell_type": "code",
   "execution_count": 140,
   "metadata": {
    "ExecuteTime": {
     "end_time": "2020-03-22T02:51:42.876639Z",
     "start_time": "2020-03-22T02:51:42.868908Z"
    }
   },
   "outputs": [],
   "source": [
    "class Model(nn.Module):\n",
    "    def __init__(\n",
    "        self,\n",
    "        vocab_size,\n",
    "        embed_dim=3,\n",
    "        hidden_dim=32\n",
    "    ):\n",
    "        super().__init__()\n",
    "        self.embed_dim = embed_dim\n",
    "        \n",
    "        self.embed = nn.Embedding(vocab_size, embed_dim)\n",
    "        self.fc1 = nn.Linear(embed_dim * 2, hidden_dim)\n",
    "        self.do1 = nn.Dropout()\n",
    "        self.fc2 = nn.Linear(hidden_dim, hidden_dim)\n",
    "        self.do2 = nn.Dropout()\n",
    "        self.fc3 = nn.Linear(hidden_dim, vocab_size)\n",
    "    \n",
    "    def forward(self, x):\n",
    "        # N, 2\n",
    "        x = self.embed(x)\n",
    "        # N, 2, embed_dim\n",
    "        x = x.reshape(-1, self.embed_dim * 2)\n",
    "        # N, embed_dim * 2\n",
    "        x = self.fc1(x)\n",
    "        x = self.do1(x)\n",
    "        x = F.relu(x)\n",
    "        x = self.fc2(x)\n",
    "        x = self.do2(x)\n",
    "        x = F.relu(x)\n",
    "        x = self.fc3(x)\n",
    "        x = F.log_softmax(x, dim=1)\n",
    "        # N, vocab_size\n",
    "        return x"
   ]
  }
 ],
 "metadata": {
  "hide_input": false,
  "kernelspec": {
   "display_name": "cmput_651_final",
   "language": "python",
   "name": "cmput_651_final"
  },
  "language_info": {
   "codemirror_mode": {
    "name": "ipython",
    "version": 3
   },
   "file_extension": ".py",
   "mimetype": "text/x-python",
   "name": "python",
   "nbconvert_exporter": "python",
   "pygments_lexer": "ipython3",
   "version": "3.7.5"
  },
  "toc": {
   "base_numbering": 1,
   "nav_menu": {},
   "number_sections": true,
   "sideBar": true,
   "skip_h1_title": false,
   "title_cell": "Table of Contents",
   "title_sidebar": "Contents",
   "toc_cell": false,
   "toc_position": {},
   "toc_section_display": true,
   "toc_window_display": false
  }
 },
 "nbformat": 4,
 "nbformat_minor": 4
}
