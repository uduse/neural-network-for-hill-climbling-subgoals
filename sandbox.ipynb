{
 "cells": [
  {
   "cell_type": "code",
   "execution_count": 1,
   "metadata": {
    "ExecuteTime": {
     "end_time": "2020-03-22T22:04:26.744354Z",
     "start_time": "2020-03-22T22:04:26.728860Z"
    }
   },
   "outputs": [
    {
     "name": "stdout",
     "output_type": "stream",
     "text": [
      "/home/zeyi/work_station/gpu/cmput_651_final\n"
     ]
    }
   ],
   "source": [
    "cd cmput_651_final/"
   ]
  },
  {
   "cell_type": "code",
   "execution_count": 2,
   "metadata": {
    "ExecuteTime": {
     "end_time": "2020-03-22T22:04:28.409190Z",
     "start_time": "2020-03-22T22:04:27.402820Z"
    }
   },
   "outputs": [],
   "source": [
    "%run init.ipynb"
   ]
  },
  {
   "cell_type": "code",
   "execution_count": 3,
   "metadata": {
    "ExecuteTime": {
     "end_time": "2020-03-22T22:04:29.445118Z",
     "start_time": "2020-03-22T22:04:29.246148Z"
    }
   },
   "outputs": [
    {
     "name": "stdout",
     "output_type": "stream",
     "text": [
      "maps/selected\n",
      "maps/selected/selected-map/lak110d.map\n",
      "maps/selected/selected-map/den020d.map\n",
      "maps/selected/selected-map/den005d.map\n",
      "maps/selected/selected-map/ost102d.map\n",
      "maps/selected/selected-map/den001d.map\n",
      "\n"
     ]
    }
   ],
   "source": [
    "selected_worlds = get_selected()\n",
    "world_name = 'den020d.map'\n",
    "world = selected_worlds[world_name]"
   ]
  },
  {
   "cell_type": "code",
   "execution_count": 4,
   "metadata": {
    "ExecuteTime": {
     "end_time": "2020-03-22T22:04:29.547886Z",
     "start_time": "2020-03-22T22:04:29.522465Z"
    }
   },
   "outputs": [
    {
     "name": "stdout",
     "output_type": "stream",
     "text": [
      "vocab_size: 3102\n"
     ]
    }
   ],
   "source": [
    "roads = list(filter(lambda t: world.get(t) == World.ROAD, world))\n",
    "idx_to_pos = dict(enumerate(roads))\n",
    "vocab_size = len(idx_to_pos)\n",
    "pos_to_idx = {v: k for k, v in idx_to_pos.items()}\n",
    "print('vocab_size:', vocab_size)"
   ]
  },
  {
   "cell_type": "code",
   "execution_count": 5,
   "metadata": {
    "ExecuteTime": {
     "end_time": "2020-03-22T22:04:30.300548Z",
     "start_time": "2020-03-22T22:04:30.295277Z"
    }
   },
   "outputs": [],
   "source": [
    "def encode(pos):\n",
    "    vec = np.zeros(vocab_size, dtype=np.int64)\n",
    "    vec[pos_to_idx[pos]] = 1\n",
    "    return vec\n",
    "\n",
    "def decode(vec):\n",
    "    return vec.argmax()"
   ]
  },
  {
   "cell_type": "code",
   "execution_count": 20,
   "metadata": {
    "ExecuteTime": {
     "end_time": "2020-03-22T23:12:06.206866Z",
     "start_time": "2020-03-22T23:12:06.202097Z"
    }
   },
   "outputs": [],
   "source": [
    "stream_dataset = StreamingPointsDataset(size=256, sample_rate=1)\n",
    "batch_size = 1024 * 36\n",
    "\n",
    "point_data_loader = torch.utils.data.DataLoader(\n",
    "    stream_dataset,\n",
    "    batch_size=batch_size,\n",
    "    num_workers=8,\n",
    ")"
   ]
  },
  {
   "cell_type": "code",
   "execution_count": 17,
   "metadata": {
    "ExecuteTime": {
     "end_time": "2020-03-22T22:48:24.550797Z",
     "start_time": "2020-03-22T22:48:24.416808Z"
    }
   },
   "outputs": [
    {
     "data": {
      "text/plain": [
       "LargeEmbedModel(\n",
       "  (embed): Embedding(3102, 64)\n",
       "  (fc1): Linear(in_features=128, out_features=1024, bias=True)\n",
       "  (do1): Dropout(p=0.5, inplace=False)\n",
       "  (fc3): Linear(in_features=1024, out_features=3102, bias=True)\n",
       ")"
      ]
     },
     "execution_count": 17,
     "metadata": {},
     "output_type": "execute_result"
    }
   ],
   "source": [
    "embed_dim = 64\n",
    "hidden_dim = 1024\n",
    "model = LargeEmbedModel(vocab_size=vocab_size, embed_dim=embed_dim, hidden_dim=hidden_dim)\n",
    "model.to(device)"
   ]
  },
  {
   "cell_type": "code",
   "execution_count": 18,
   "metadata": {
    "ExecuteTime": {
     "end_time": "2020-03-22T22:48:25.654148Z",
     "start_time": "2020-03-22T22:48:25.639641Z"
    }
   },
   "outputs": [],
   "source": [
    "optimizer = optim.Adam(model.parameters(), weight_decay=1e-5, lr=1e-3)\n",
    "# criterion = F.mse_loss\n",
    "criterion = F.nll_loss"
   ]
  },
  {
   "cell_type": "code",
   "execution_count": 21,
   "metadata": {
    "ExecuteTime": {
     "end_time": "2020-03-22T23:33:41.313833Z",
     "start_time": "2020-03-22T23:12:08.456498Z"
    }
   },
   "outputs": [
    {
     "data": {
      "application/vnd.jupyter.widget-view+json": {
       "model_id": "8a08e44ad6514b7197dda97ca6060602",
       "version_major": 2,
       "version_minor": 0
      },
      "text/plain": [
       "HBox(children=(FloatProgress(value=0.0), HTML(value='')))"
      ]
     },
     "metadata": {},
     "output_type": "display_data"
    },
    {
     "name": "stdout",
     "output_type": "stream",
     "text": [
      "epoch:  0 \tloss:  \t 7.4514442682266235 \t 0.9314305335283279\n",
      "epoch:  1 \tloss:  \t 6.543390989303589 \t 0.8179238736629486\n",
      "epoch:  2 \tloss:  \t 6.835068941116333 \t 0.8543836176395416\n",
      "epoch:  3 \tloss:  \t 6.7241411209106445 \t 0.8405176401138306\n",
      "epoch:  4 \tloss:  \t 6.654769241809845 \t 0.8318461552262306\n",
      "epoch:  5 \tloss:  \t 6.460136830806732 \t 0.8075171038508415\n",
      "epoch:  6 \tloss:  \t 6.791754961013794 \t 0.8489693701267242\n",
      "epoch:  7 \tloss:  \t 6.346808075904846 \t 0.7933510094881058\n",
      "epoch:  8 \tloss:  \t 6.540900886058807 \t 0.8176126107573509\n",
      "epoch:  9 \tloss:  \t 6.8741759061813354 \t 0.8592719882726669\n",
      "epoch:  10 \tloss:  \t 6.4907044768333435 \t 0.8113380596041679\n",
      "epoch:  11 \tloss:  \t 6.88770318031311 \t 0.8609628975391388\n",
      "epoch:  12 \tloss:  \t 6.133929193019867 \t 0.7667411491274834\n",
      "epoch:  13 \tloss:  \t 6.379638314247131 \t 0.7974547892808914\n",
      "epoch:  14 \tloss:  \t 5.868942320346832 \t 0.733617790043354\n",
      "epoch:  15 \tloss:  \t 5.980635941028595 \t 0.7475794926285744\n",
      "epoch:  16 \tloss:  \t 6.1071677803993225 \t 0.7633959725499153\n",
      "epoch:  17 \tloss:  \t 6.019174754619598 \t 0.7523968443274498\n",
      "epoch:  18 \tloss:  \t 6.110434174537659 \t 0.7638042718172073\n",
      "epoch:  19 \tloss:  \t 6.060309410095215 \t 0.7575386762619019\n",
      "epoch:  20 \tloss:  \t 6.104465663433075 \t 0.7630582079291344\n",
      "epoch:  21 \tloss:  \t 5.958526194095612 \t 0.7448157742619514\n",
      "epoch:  22 \tloss:  \t 6.041614830493927 \t 0.7552018538117409\n",
      "epoch:  23 \tloss:  \t 6.111884295940399 \t 0.7639855369925499\n",
      "epoch:  24 \tloss:  \t 6.30061537027359 \t 0.7875769212841988\n",
      "epoch:  25 \tloss:  \t 6.076744258403778 \t 0.7595930323004723\n",
      "epoch:  26 \tloss:  \t 5.9833855628967285 \t 0.7479231953620911\n",
      "epoch:  27 \tloss:  \t 6.129697680473328 \t 0.766212210059166\n",
      "epoch:  28 \tloss:  \t 5.788180470466614 \t 0.7235225588083267\n",
      "epoch:  29 \tloss:  \t 6.1830220222473145 \t 0.7728777527809143\n",
      "epoch:  30 \tloss:  \t 6.218655169010162 \t 0.7773318961262703\n",
      "epoch:  31 \tloss:  \t 5.774000704288483 \t 0.7217500880360603\n",
      "epoch:  32 \tloss:  \t 5.844987511634827 \t 0.7306234389543533\n",
      "epoch:  33 \tloss:  \t 6.029925286769867 \t 0.7537406608462334\n",
      "epoch:  34 \tloss:  \t 5.81078565120697 \t 0.7263482064008713\n",
      "epoch:  35 \tloss:  \t 5.816567003726959 \t 0.7270708754658699\n",
      "epoch:  36 \tloss:  \t 5.791368663311005 \t 0.7239210829138756\n",
      "epoch:  37 \tloss:  \t 6.040476441383362 \t 0.7550595551729202\n",
      "epoch:  38 \tloss:  \t 5.460060358047485 \t 0.6825075447559357\n",
      "epoch:  39 \tloss:  \t 5.97397917509079 \t 0.7467473968863487\n",
      "epoch:  40 \tloss:  \t 5.7543445229530334 \t 0.7192930653691292\n",
      "epoch:  41 \tloss:  \t 5.719727516174316 \t 0.7149659395217896\n",
      "epoch:  42 \tloss:  \t 5.477973103523254 \t 0.6847466379404068\n",
      "epoch:  43 \tloss:  \t 5.823468446731567 \t 0.7279335558414459\n",
      "epoch:  44 \tloss:  \t 5.637450039386749 \t 0.7046812549233437\n",
      "epoch:  45 \tloss:  \t 5.6238290667533875 \t 0.7029786333441734\n",
      "epoch:  46 \tloss:  \t 5.4815691113471985 \t 0.6851961389183998\n",
      "epoch:  47 \tloss:  \t 5.4225969314575195 \t 0.6778246164321899\n",
      "epoch:  48 \tloss:  \t 5.805095791816711 \t 0.7256369739770889\n",
      "epoch:  49 \tloss:  \t 5.5032490491867065 \t 0.6879061311483383\n",
      "epoch:  50 \tloss:  \t 5.88295978307724 \t 0.735369972884655\n",
      "epoch:  51 \tloss:  \t 5.674048542976379 \t 0.7092560678720474\n",
      "epoch:  52 \tloss:  \t 5.382977187633514 \t 0.6728721484541893\n",
      "epoch:  53 \tloss:  \t 5.448801219463348 \t 0.6811001524329185\n",
      "epoch:  54 \tloss:  \t 5.70324444770813 \t 0.7129055559635162\n",
      "epoch:  55 \tloss:  \t 5.5313509702682495 \t 0.6914188712835312\n",
      "epoch:  56 \tloss:  \t 5.198987126350403 \t 0.6498733907938004\n",
      "epoch:  57 \tloss:  \t 5.679620206356049 \t 0.7099525257945061\n",
      "epoch:  58 \tloss:  \t 5.4249489307403564 \t 0.6781186163425446\n",
      "epoch:  59 \tloss:  \t 5.580442547798157 \t 0.6975553184747696\n",
      "epoch:  60 \tloss:  \t 5.378800272941589 \t 0.6723500341176987\n",
      "epoch:  61 \tloss:  \t 5.553350389003754 \t 0.6941687986254692\n",
      "epoch:  62 \tloss:  \t 5.456666171550751 \t 0.6820832714438438\n",
      "epoch:  63 \tloss:  \t 5.652917861938477 \t 0.7066147327423096\n",
      "epoch:  64 \tloss:  \t 5.116634726524353 \t 0.6395793408155441\n",
      "epoch:  65 \tloss:  \t 5.4365904331207275 \t 0.6795738041400909\n",
      "epoch:  66 \tloss:  \t 5.392492294311523 \t 0.6740615367889404\n",
      "epoch:  67 \tloss:  \t 5.089683294296265 \t 0.6362104117870331\n",
      "epoch:  68 \tloss:  \t 5.176407873630524 \t 0.6470509842038155\n",
      "epoch:  69 \tloss:  \t 5.43565708398819 \t 0.6794571354985237\n",
      "epoch:  70 \tloss:  \t 5.551879286766052 \t 0.6939849108457565\n",
      "epoch:  71 \tloss:  \t 5.406318366527557 \t 0.6757897958159447\n",
      "epoch:  72 \tloss:  \t 5.448964536190033 \t 0.6811205670237541\n",
      "epoch:  73 \tloss:  \t 4.968187987804413 \t 0.6210234984755516\n",
      "epoch:  74 \tloss:  \t 5.43586653470993 \t 0.6794833168387413\n",
      "epoch:  75 \tloss:  \t 5.039475083351135 \t 0.6299343854188919\n",
      "epoch:  76 \tloss:  \t 5.209434986114502 \t 0.6511793732643127\n",
      "epoch:  77 \tloss:  \t 5.166938960552216 \t 0.645867370069027\n",
      "epoch:  78 \tloss:  \t 5.5522531270980835 \t 0.6940316408872604\n",
      "epoch:  79 \tloss:  \t 5.0788310170173645 \t 0.6348538771271706\n",
      "epoch:  80 \tloss:  \t 5.1224106550216675 \t 0.6403013318777084\n",
      "epoch:  81 \tloss:  \t 5.460412621498108 \t 0.6825515776872635\n",
      "epoch:  82 \tloss:  \t 5.081545174121857 \t 0.6351931467652321\n",
      "epoch:  83 \tloss:  \t 5.399067938327789 \t 0.6748834922909737\n",
      "epoch:  84 \tloss:  \t 5.407279372215271 \t 0.6759099215269089\n",
      "epoch:  85 \tloss:  \t 5.299716889858246 \t 0.6624646112322807\n",
      "epoch:  86 \tloss:  \t 4.877767443656921 \t 0.6097209304571152\n",
      "epoch:  87 \tloss:  \t 5.0605379939079285 \t 0.6325672492384911\n",
      "epoch:  88 \tloss:  \t 4.903303384780884 \t 0.6129129230976105\n",
      "epoch:  89 \tloss:  \t 5.1930437088012695 \t 0.6491304636001587\n",
      "epoch:  90 \tloss:  \t 5.103897750377655 \t 0.6379872187972069\n",
      "epoch:  91 \tloss:  \t 4.960909605026245 \t 0.6201137006282806\n",
      "epoch:  92 \tloss:  \t 5.063226342201233 \t 0.6329032927751541\n",
      "epoch:  93 \tloss:  \t 5.143450736999512 \t 0.642931342124939\n",
      "epoch:  94 \tloss:  \t 5.352282345294952 \t 0.669035293161869\n",
      "epoch:  95 \tloss:  \t 5.353933691978455 \t 0.6692417114973068\n",
      "epoch:  96 \tloss:  \t 4.892253577709198 \t 0.6115316972136497\n",
      "epoch:  97 \tloss:  \t 4.933021008968353 \t 0.6166276261210442\n",
      "epoch:  98 \tloss:  \t 5.165279030799866 \t 0.6456598788499832\n",
      "epoch:  99 \tloss:  \t 4.7769559025764465 \t 0.5971194878220558\n",
      "\n"
     ]
    },
    {
     "data": {
      "text/plain": [
       "LargeEmbedModel(\n",
       "  (embed): Embedding(3102, 64)\n",
       "  (fc1): Linear(in_features=128, out_features=1024, bias=True)\n",
       "  (do1): Dropout(p=0.5, inplace=False)\n",
       "  (fc3): Linear(in_features=1024, out_features=3102, bias=True)\n",
       ")"
      ]
     },
     "execution_count": 21,
     "metadata": {},
     "output_type": "execute_result"
    }
   ],
   "source": [
    "model.train()\n",
    "model.to(device)\n",
    "for epoch in tqdm_nb(range(100)):\n",
    "    losses = []\n",
    "    for batch_idx, (x, y) in enumerate(point_data_loader):\n",
    "        x = x.to(device)\n",
    "        y = y.to(device)\n",
    "        optimizer.zero_grad()\n",
    "        output = model(x)\n",
    "#         print(output.shape)\n",
    "#         print(y.shape)\n",
    "        loss = criterion(output, y.reshape(-1))\n",
    "        loss.backward()\n",
    "        optimizer.step()\n",
    "        losses.append(loss.item())\n",
    "    torch.save(model, f'{world_name}_{str(model.__class__.__name__)}_2.pt')\n",
    "    print('epoch: ', epoch,\n",
    "          '\\tloss: ',\n",
    "          '\\t', np.sum(np.array(losses)),\n",
    "          '\\t', np.mean(np.array(losses)),\n",
    "#           '\\t', np.mean(np.array(losses)) / batch_size,\n",
    "#           '\\t', np.mean(np.array(losses)) / len(point_data_loader),\n",
    "         )\n",
    "model.to('cpu')"
   ]
  },
  {
   "cell_type": "code",
   "execution_count": null,
   "metadata": {},
   "outputs": [],
   "source": [
    "torch.save(model, f'{world_name}_{str(model.__class__.__name__)}.pt')"
   ]
  }
 ],
 "metadata": {
  "hide_input": false,
  "kernelspec": {
   "display_name": "SSH zeyi@10.0.0.29 PC Remote GPU",
   "language": "",
   "name": "rik_ssh_zeyi_10_0_0_29_pcremotegpu"
  },
  "language_info": {
   "codemirror_mode": {
    "name": "ipython",
    "version": 3
   },
   "file_extension": ".py",
   "mimetype": "text/x-python",
   "name": "python",
   "nbconvert_exporter": "python",
   "pygments_lexer": "ipython3",
   "version": "3.7.6"
  },
  "toc": {
   "base_numbering": 1,
   "nav_menu": {},
   "number_sections": true,
   "sideBar": true,
   "skip_h1_title": false,
   "title_cell": "Table of Contents",
   "title_sidebar": "Contents",
   "toc_cell": false,
   "toc_position": {
    "height": "calc(100% - 180px)",
    "left": "10px",
    "top": "150px",
    "width": "216px"
   },
   "toc_section_display": true,
   "toc_window_display": false
  }
 },
 "nbformat": 4,
 "nbformat_minor": 4
}
