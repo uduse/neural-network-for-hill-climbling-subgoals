{
 "cells": [
  {
   "cell_type": "code",
   "execution_count": 1,
   "metadata": {
    "ExecuteTime": {
     "end_time": "2020-04-07T19:13:49.653802Z",
     "start_time": "2020-04-07T19:13:49.649948Z"
    }
   },
   "outputs": [],
   "source": [
    "cd cmput_651_final/"
   ]
  },
  {
   "cell_type": "code",
   "execution_count": 2,
   "metadata": {
    "ExecuteTime": {
     "end_time": "2020-04-07T19:13:49.989635Z",
     "start_time": "2020-04-07T19:13:49.656929Z"
    }
   },
   "outputs": [],
   "source": [
    "%run init.ipynb"
   ]
  },
  {
   "cell_type": "code",
   "execution_count": 3,
   "metadata": {
    "ExecuteTime": {
     "end_time": "2020-04-07T19:13:50.178965Z",
     "start_time": "2020-04-07T19:13:49.990785Z"
    }
   },
   "outputs": [
    {
     "name": "stdout",
     "output_type": "stream",
     "text": [
      "maps/selected\n",
      "maps/selected/selected-map/lak110d.map\n",
      "maps/selected/selected-map/den020d.map\n",
      "maps/selected/selected-map/den005d.map\n",
      "maps/selected/selected-map/ost102d.map\n",
      "maps/selected/selected-map/den001d.map\n",
      "\n"
     ]
    }
   ],
   "source": [
    "selected_worlds = get_selected()\n",
    "world_name = 'den020d.map'\n",
    "world = selected_worlds[world_name]"
   ]
  },
  {
   "cell_type": "code",
   "execution_count": 4,
   "metadata": {
    "ExecuteTime": {
     "end_time": "2020-04-07T19:13:50.190564Z",
     "start_time": "2020-04-07T19:13:50.180207Z"
    }
   },
   "outputs": [
    {
     "name": "stdout",
     "output_type": "stream",
     "text": [
      "vocab_size: 3102\n"
     ]
    }
   ],
   "source": [
    "roads = list(filter(lambda t: world.get(t) == World.ROAD, world))\n",
    "idx_to_pos = dict(enumerate(roads))\n",
    "vocab_size = len(idx_to_pos)\n",
    "pos_to_idx = {v: k for k, v in idx_to_pos.items()}\n",
    "print('vocab_size:', vocab_size)"
   ]
  },
  {
   "cell_type": "code",
   "execution_count": 5,
   "metadata": {
    "ExecuteTime": {
     "end_time": "2020-04-07T19:13:50.193528Z",
     "start_time": "2020-04-07T19:13:50.191432Z"
    }
   },
   "outputs": [],
   "source": [
    "def encode(pos):\n",
    "    vec = np.zeros(vocab_size, dtype=np.int64)\n",
    "    vec[pos_to_idx[pos]] = 1\n",
    "    return vec\n",
    "\n",
    "def decode(vec):\n",
    "    return vec.argmax()"
   ]
  },
  {
   "cell_type": "code",
   "execution_count": 6,
   "metadata": {
    "ExecuteTime": {
     "end_time": "2020-04-07T19:13:50.196508Z",
     "start_time": "2020-04-07T19:13:50.194375Z"
    }
   },
   "outputs": [],
   "source": [
    "stream_dataset = StreamingPointsDataset(size=256, sample_rate=1)\n",
    "batch_size = 1024 * 36\n",
    "\n",
    "point_data_loader = torch.utils.data.DataLoader(\n",
    "    stream_dataset,\n",
    "    batch_size=batch_size,\n",
    "    num_workers=8,\n",
    ")"
   ]
  },
  {
   "cell_type": "code",
   "execution_count": 16,
   "metadata": {
    "ExecuteTime": {
     "end_time": "2020-04-07T19:30:37.203124Z",
     "start_time": "2020-04-07T19:30:37.183887Z"
    }
   },
   "outputs": [
    {
     "name": "stdout",
     "output_type": "stream",
     "text": [
      "----------------------------------------------------------------\n",
      "        Layer (type)               Output Shape         Param #\n",
      "================================================================\n",
      "         Embedding-1               [-1, 2, 512]       1,588,224\n",
      "            Linear-2                  [-1, 512]         524,800\n",
      "           Dropout-3                  [-1, 512]               0\n",
      "            Linear-4                 [-1, 3102]       1,591,326\n",
      "   LargeEmbedModel-5                 [-1, 3102]               0\n",
      "================================================================\n",
      "Total params: 3,704,350\n",
      "Trainable params: 3,704,350\n",
      "Non-trainable params: 0\n",
      "----------------------------------------------------------------\n",
      "Input size (MB): 0.00\n",
      "Forward/backward pass size (MB): 0.06\n",
      "Params size (MB): 14.13\n",
      "Estimated Total Size (MB): 14.19\n",
      "----------------------------------------------------------------\n",
      "\n"
     ]
    }
   ],
   "source": [
    "embed_dim = 512\n",
    "hidden_dim = 512\n",
    "model = LargeEmbedModel(vocab_size=vocab_size, embed_dim=embed_dim, hidden_dim=hidden_dim)\n",
    "model.to('cpu')\n",
    "summary(model, input_size=(2,), dtypes=[torch.int64], device='cpu')\n",
    "model_name = f\"{world_name}_{model.__class__.__name__}\""
   ]
  },
  {
   "cell_type": "code",
   "execution_count": 18,
   "metadata": {
    "ExecuteTime": {
     "end_time": "2020-04-07T19:30:50.404544Z",
     "start_time": "2020-04-07T19:30:50.399062Z"
    }
   },
   "outputs": [],
   "source": [
    "optimizer = optim.Adam(model.parameters(), weight_decay=1e-8, lr=2e-3)\n",
    "# criterion = F.mse_loss\n",
    "criterion = F.nll_loss"
   ]
  },
  {
   "cell_type": "code",
   "execution_count": 19,
   "metadata": {
    "ExecuteTime": {
     "end_time": "2020-04-07T19:46:29.489394Z",
     "start_time": "2020-04-07T19:30:50.915452Z"
    }
   },
   "outputs": [
    {
     "data": {
      "application/vnd.jupyter.widget-view+json": {
       "model_id": "efab791462ec48128c84c4b4fa880439",
       "version_major": 2,
       "version_minor": 0
      },
      "text/plain": [
       "HBox(children=(FloatProgress(value=0.0), HTML(value='')))"
      ]
     },
     "metadata": {},
     "output_type": "display_data"
    },
    {
     "name": "stdout",
     "output_type": "stream",
     "text": [
      "epoch:  0 \tloss:  \t 57.45550727844238 \t 7.181938409805298\n",
      "epoch:  1 \tloss:  \t 48.948280811309814 \t 6.118535101413727\n",
      "epoch:  2 \tloss:  \t 45.19174242019653 \t 5.648967802524567\n",
      "epoch:  3 \tloss:  \t 43.022512912750244 \t 5.3778141140937805\n",
      "epoch:  4 \tloss:  \t 40.73072290420532 \t 5.091340363025665\n",
      "epoch:  5 \tloss:  \t 38.145461559295654 \t 4.768182694911957\n",
      "epoch:  6 \tloss:  \t 34.76305294036865 \t 4.3453816175460815\n",
      "epoch:  7 \tloss:  \t 31.786727905273438 \t 3.9733409881591797\n",
      "epoch:  8 \tloss:  \t 29.49608540534973 \t 3.6870106756687164\n",
      "epoch:  9 \tloss:  \t 26.90475082397461 \t 3.363093852996826\n",
      "epoch:  10 \tloss:  \t 24.91970133781433 \t 3.1149626672267914\n",
      "epoch:  11 \tloss:  \t 22.442652702331543 \t 2.805331587791443\n",
      "epoch:  12 \tloss:  \t 20.424217462539673 \t 2.553027182817459\n",
      "epoch:  13 \tloss:  \t 19.082897424697876 \t 2.3853621780872345\n",
      "epoch:  14 \tloss:  \t 18.004266262054443 \t 2.2505332827568054\n",
      "epoch:  15 \tloss:  \t 17.215227365493774 \t 2.151903420686722\n",
      "epoch:  16 \tloss:  \t 16.47668218612671 \t 2.0595852732658386\n",
      "epoch:  17 \tloss:  \t 15.54100227355957 \t 1.9426252841949463\n",
      "epoch:  18 \tloss:  \t 14.695907473564148 \t 1.8369884341955185\n",
      "epoch:  19 \tloss:  \t 14.511038661003113 \t 1.813879832625389\n",
      "epoch:  20 \tloss:  \t 14.222834587097168 \t 1.777854323387146\n",
      "epoch:  21 \tloss:  \t 14.048797369003296 \t 1.756099671125412\n",
      "epoch:  22 \tloss:  \t 13.281663417816162 \t 1.6602079272270203\n",
      "epoch:  23 \tloss:  \t 12.863182187080383 \t 1.607897773385048\n",
      "epoch:  24 \tloss:  \t 12.970478057861328 \t 1.621309757232666\n",
      "epoch:  25 \tloss:  \t 12.788476586341858 \t 1.5985595732927322\n",
      "epoch:  26 \tloss:  \t 12.589199781417847 \t 1.5736499726772308\n",
      "epoch:  27 \tloss:  \t 12.35764479637146 \t 1.5447055995464325\n",
      "epoch:  28 \tloss:  \t 12.044822573661804 \t 1.5056028217077255\n",
      "epoch:  29 \tloss:  \t 11.662452697753906 \t 1.4578065872192383\n",
      "epoch:  30 \tloss:  \t 11.534307599067688 \t 1.441788449883461\n",
      "epoch:  31 \tloss:  \t 11.589681029319763 \t 1.4487101286649704\n",
      "epoch:  32 \tloss:  \t 11.211662530899048 \t 1.401457816362381\n",
      "epoch:  33 \tloss:  \t 10.76930820941925 \t 1.3461635261774063\n",
      "epoch:  34 \tloss:  \t 10.656437516212463 \t 1.332054689526558\n",
      "epoch:  35 \tloss:  \t 10.538159251213074 \t 1.3172699064016342\n",
      "epoch:  36 \tloss:  \t 10.633436560630798 \t 1.3291795700788498\n",
      "epoch:  37 \tloss:  \t 10.930684924125671 \t 1.366335615515709\n",
      "epoch:  38 \tloss:  \t 10.45056962966919 \t 1.3063212037086487\n",
      "epoch:  39 \tloss:  \t 10.369683384895325 \t 1.2962104231119156\n",
      "epoch:  40 \tloss:  \t 10.207051396369934 \t 1.2758814245462418\n",
      "epoch:  41 \tloss:  \t 10.036220669746399 \t 1.2545275837182999\n",
      "epoch:  42 \tloss:  \t 10.229788064956665 \t 1.2787235081195831\n",
      "epoch:  43 \tloss:  \t 10.002229452133179 \t 1.2502786815166473\n",
      "epoch:  44 \tloss:  \t 9.901867508888245 \t 1.2377334386110306\n",
      "epoch:  45 \tloss:  \t 9.91160798072815 \t 1.2389509975910187\n",
      "epoch:  46 \tloss:  \t 10.02131712436676 \t 1.252664640545845\n",
      "epoch:  47 \tloss:  \t 9.86446738243103 \t 1.2330584228038788\n",
      "epoch:  48 \tloss:  \t 9.794614315032959 \t 1.2243267893791199\n",
      "epoch:  49 \tloss:  \t 9.837440609931946 \t 1.2296800762414932\n",
      "epoch:  50 \tloss:  \t 9.425692558288574 \t 1.1782115697860718\n",
      "epoch:  51 \tloss:  \t 9.633554100990295 \t 1.204194262623787\n",
      "epoch:  52 \tloss:  \t 9.338236927986145 \t 1.1672796159982681\n",
      "epoch:  53 \tloss:  \t 9.48925507068634 \t 1.1861568838357925\n",
      "epoch:  54 \tloss:  \t 9.88948905467987 \t 1.2361861318349838\n",
      "epoch:  55 \tloss:  \t 9.424422025680542 \t 1.1780527532100677\n",
      "epoch:  56 \tloss:  \t 9.571609735488892 \t 1.1964512169361115\n",
      "epoch:  57 \tloss:  \t 9.333196878433228 \t 1.1666496098041534\n",
      "epoch:  58 \tloss:  \t 9.37705397605896 \t 1.17213174700737\n",
      "epoch:  59 \tloss:  \t 9.6737642288208 \t 1.2092205286026\n",
      "epoch:  60 \tloss:  \t 9.31093680858612 \t 1.163867101073265\n",
      "epoch:  61 \tloss:  \t 9.142465114593506 \t 1.1428081393241882\n",
      "epoch:  62 \tloss:  \t 9.262942433357239 \t 1.1578678041696548\n",
      "epoch:  63 \tloss:  \t 9.220522165298462 \t 1.1525652706623077\n",
      "epoch:  64 \tloss:  \t 9.159173607826233 \t 1.1448967009782791\n",
      "epoch:  65 \tloss:  \t 8.900564432144165 \t 1.1125705540180206\n",
      "epoch:  66 \tloss:  \t 9.05111837387085 \t 1.1313897967338562\n",
      "epoch:  67 \tloss:  \t 9.048786401748657 \t 1.1310983002185822\n",
      "epoch:  68 \tloss:  \t 9.26524043083191 \t 1.1581550538539886\n",
      "epoch:  69 \tloss:  \t 8.92457377910614 \t 1.1155717223882675\n",
      "epoch:  70 \tloss:  \t 9.176532506942749 \t 1.1470665633678436\n",
      "epoch:  71 \tloss:  \t 9.058359026908875 \t 1.1322948783636093\n",
      "epoch:  72 \tloss:  \t 8.694268107414246 \t 1.0867835134267807\n",
      "epoch:  73 \tloss:  \t 8.768708229064941 \t 1.0960885286331177\n",
      "epoch:  74 \tloss:  \t 9.20681881904602 \t 1.1508523523807526\n",
      "epoch:  75 \tloss:  \t 9.157276630401611 \t 1.1446595788002014\n",
      "epoch:  76 \tloss:  \t 8.843505501747131 \t 1.1054381877183914\n",
      "epoch:  77 \tloss:  \t 8.842379808425903 \t 1.105297476053238\n",
      "epoch:  78 \tloss:  \t 8.948894798755646 \t 1.1186118498444557\n",
      "epoch:  79 \tloss:  \t 8.97405457496643 \t 1.1217568218708038\n",
      "epoch:  80 \tloss:  \t 9.117664396762848 \t 1.139708049595356\n",
      "epoch:  81 \tloss:  \t 8.546377778053284 \t 1.0682972222566605\n",
      "epoch:  82 \tloss:  \t 8.77614015340805 \t 1.0970175191760063\n",
      "epoch:  83 \tloss:  \t 8.500500082969666 \t 1.0625625103712082\n",
      "epoch:  84 \tloss:  \t 8.632319450378418 \t 1.0790399312973022\n",
      "epoch:  85 \tloss:  \t 9.062843561172485 \t 1.1328554451465607\n",
      "epoch:  86 \tloss:  \t 8.606253147125244 \t 1.0757816433906555\n",
      "epoch:  87 \tloss:  \t 8.754777193069458 \t 1.0943471491336823\n",
      "epoch:  88 \tloss:  \t 8.530805349349976 \t 1.066350668668747\n",
      "epoch:  89 \tloss:  \t 8.96485823392868 \t 1.120607279241085\n",
      "epoch:  90 \tloss:  \t 8.625903189182281 \t 1.0782378986477852\n",
      "epoch:  91 \tloss:  \t 8.437218010425568 \t 1.054652251303196\n",
      "epoch:  92 \tloss:  \t 8.648911237716675 \t 1.0811139047145844\n",
      "epoch:  93 \tloss:  \t 8.495804905891418 \t 1.0619756132364273\n",
      "epoch:  94 \tloss:  \t 8.66608202457428 \t 1.083260253071785\n",
      "epoch:  95 \tloss:  \t 8.785671830177307 \t 1.0982089787721634\n",
      "epoch:  96 \tloss:  \t 8.592017412185669 \t 1.0740021765232086\n",
      "epoch:  97 \tloss:  \t 8.413917183876038 \t 1.0517396479845047\n",
      "epoch:  98 \tloss:  \t 8.7098029255867 \t 1.0887253656983376\n",
      "epoch:  99 \tloss:  \t 8.374651074409485 \t 1.0468313843011856\n",
      "\n",
      "sample_count: 14234641\n"
     ]
    },
    {
     "data": {
      "text/plain": [
       "LargeEmbedModel(\n",
       "  (embed): Embedding(3102, 512)\n",
       "  (fc1): Linear(in_features=1024, out_features=512, bias=True)\n",
       "  (do1): Dropout(p=0.5, inplace=False)\n",
       "  (fc3): Linear(in_features=512, out_features=3102, bias=True)\n",
       ")"
      ]
     },
     "execution_count": 19,
     "metadata": {},
     "output_type": "execute_result"
    }
   ],
   "source": [
    "model.train()\n",
    "model.to(device)\n",
    "sample_count = 0\n",
    "for epoch in tqdm_nb(range(100)):\n",
    "    losses = []\n",
    "    for batch_idx, (x, y) in enumerate(point_data_loader):\n",
    "        sample_count += x.shape[0]\n",
    "        x = x.to(device)\n",
    "        y = y.to(device)\n",
    "        optimizer.zero_grad()\n",
    "        output = model(x)\n",
    "#         print(output.shape)\n",
    "#         print(y.shape)\n",
    "        loss = criterion(output, y.reshape(-1))\n",
    "        loss.backward()\n",
    "        optimizer.step()\n",
    "        losses.append(loss.item())\n",
    "    torch.save(model, f'{model_name}.pt')\n",
    "    print('epoch: ', epoch,\n",
    "          '\\tloss: ',\n",
    "          '\\t', np.sum(np.array(losses)),\n",
    "          '\\t', np.mean(np.array(losses)),\n",
    "#           '\\t', np.mean(np.array(losses)) / batch_size,\n",
    "#           '\\t', np.mean(np.array(losses)) / len(point_data_loader),\n",
    "         )\n",
    "print('sample_count:', sample_count)\n",
    "model.to('cpu')"
   ]
  },
  {
   "cell_type": "code",
   "execution_count": 10,
   "metadata": {
    "ExecuteTime": {
     "end_time": "2020-04-07T19:29:37.198036Z",
     "start_time": "2020-04-07T19:29:37.196212Z"
    }
   },
   "outputs": [
    {
     "name": "stdout",
     "output_type": "stream",
     "text": [
      "den020d.map_LargeEmbedModel\n"
     ]
    }
   ],
   "source": [
    "print(model_name)"
   ]
  },
  {
   "cell_type": "code",
   "execution_count": 11,
   "metadata": {
    "ExecuteTime": {
     "end_time": "2020-04-07T19:29:37.223605Z",
     "start_time": "2020-04-07T19:29:37.198819Z"
    }
   },
   "outputs": [],
   "source": [
    "torch.save(model, f'{world_name}_{str(model.__class__.__name__)}.pt')"
   ]
  },
  {
   "cell_type": "code",
   "execution_count": 12,
   "metadata": {
    "ExecuteTime": {
     "end_time": "2020-04-07T19:29:37.226423Z",
     "start_time": "2020-04-07T19:29:37.224483Z"
    }
   },
   "outputs": [
    {
     "data": {
      "text/plain": [
       "<nnhcs.world.World at 0x7f3d784abd50>"
      ]
     },
     "execution_count": 12,
     "metadata": {},
     "output_type": "execute_result"
    }
   ],
   "source": [
    "world"
   ]
  }
 ],
 "metadata": {
  "hide_input": false,
  "kernelspec": {
   "display_name": "SSH zeyi@10.0.0.29 PC Remote GPU",
   "language": "",
   "name": "rik_ssh_zeyi_10_0_0_29_pcremotegpu"
  },
  "language_info": {
   "codemirror_mode": {
    "name": "ipython",
    "version": 3
   },
   "file_extension": ".py",
   "mimetype": "text/x-python",
   "name": "python",
   "nbconvert_exporter": "python",
   "pygments_lexer": "ipython3",
   "version": "3.7.6"
  },
  "toc": {
   "base_numbering": 1,
   "nav_menu": {},
   "number_sections": true,
   "sideBar": true,
   "skip_h1_title": false,
   "title_cell": "Table of Contents",
   "title_sidebar": "Contents",
   "toc_cell": false,
   "toc_position": {
    "height": "calc(100% - 180px)",
    "left": "10px",
    "top": "150px",
    "width": "216px"
   },
   "toc_section_display": true,
   "toc_window_display": false
  }
 },
 "nbformat": 4,
 "nbformat_minor": 4
}
